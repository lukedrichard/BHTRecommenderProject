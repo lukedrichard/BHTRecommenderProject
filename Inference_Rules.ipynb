{
 "cells": [
  {
   "cell_type": "code",
   "execution_count": 805,
   "id": "013da0e2-3418-4112-8456-645f90faa45b",
   "metadata": {},
   "outputs": [],
   "source": [
    "import numpy as np\n",
    "import pandas as pd\n",
    "from itertools import combinations\n",
    "import matplotlib.pyplot as plt"
   ]
  },
  {
   "cell_type": "code",
   "execution_count": 858,
   "id": "a0450e0b-0be3-436e-b31c-3f71e6eb3330",
   "metadata": {},
   "outputs": [
    {
     "data": {
      "text/html": [
       "<div>\n",
       "<style scoped>\n",
       "    .dataframe tbody tr th:only-of-type {\n",
       "        vertical-align: middle;\n",
       "    }\n",
       "\n",
       "    .dataframe tbody tr th {\n",
       "        vertical-align: top;\n",
       "    }\n",
       "\n",
       "    .dataframe thead th {\n",
       "        text-align: right;\n",
       "    }\n",
       "</style>\n",
       "<table border=\"1\" class=\"dataframe\">\n",
       "  <thead>\n",
       "    <tr style=\"text-align: right;\">\n",
       "      <th></th>\n",
       "      <th>User_id</th>\n",
       "      <th>\"Chosen\" Classics: Round the World in Eighty Days</th>\n",
       "      <th>\"D\" is for Deadbeat</th>\n",
       "      <th>\"Mildred Pierce</th>\n",
       "      <th>\"Ra Force Rising\": Brother G</th>\n",
       "      <th>\"Thirty years in hell\"; or, \"From darkness to light</th>\n",
       "      <th>'Tis The Season: The Choice\\First Fruits\\A New Year; A New Beginning</th>\n",
       "      <th>'Tis the Season to Be Murdered</th>\n",
       "      <th>... Summer moonshine</th>\n",
       "      <th>...Arrow pointing nowhere</th>\n",
       "      <th>...</th>\n",
       "      <th>Zane's Gettin' Buck Wild: Sex Chronicles II</th>\n",
       "      <th>Zane's Skyscraper: A Novel</th>\n",
       "      <th>Zazie dans le Mtro</th>\n",
       "      <th>Zen Attitude</th>\n",
       "      <th>Zia</th>\n",
       "      <th>Zorba the Greek</th>\n",
       "      <th>green valley</th>\n",
       "      <th>never too much</th>\n",
       "      <th>our davie pepper</th>\n",
       "      <th>the Picture of Dorian Gray</th>\n",
       "    </tr>\n",
       "  </thead>\n",
       "  <tbody>\n",
       "    <tr>\n",
       "      <th>0</th>\n",
       "      <td>A106016KSI0YQ</td>\n",
       "      <td>NaN</td>\n",
       "      <td>NaN</td>\n",
       "      <td>NaN</td>\n",
       "      <td>NaN</td>\n",
       "      <td>NaN</td>\n",
       "      <td>NaN</td>\n",
       "      <td>NaN</td>\n",
       "      <td>NaN</td>\n",
       "      <td>NaN</td>\n",
       "      <td>...</td>\n",
       "      <td>NaN</td>\n",
       "      <td>NaN</td>\n",
       "      <td>NaN</td>\n",
       "      <td>NaN</td>\n",
       "      <td>NaN</td>\n",
       "      <td>NaN</td>\n",
       "      <td>NaN</td>\n",
       "      <td>NaN</td>\n",
       "      <td>NaN</td>\n",
       "      <td>NaN</td>\n",
       "    </tr>\n",
       "    <tr>\n",
       "      <th>1</th>\n",
       "      <td>A106E1N0ZQ4D9W</td>\n",
       "      <td>NaN</td>\n",
       "      <td>NaN</td>\n",
       "      <td>NaN</td>\n",
       "      <td>NaN</td>\n",
       "      <td>NaN</td>\n",
       "      <td>NaN</td>\n",
       "      <td>NaN</td>\n",
       "      <td>NaN</td>\n",
       "      <td>2.0</td>\n",
       "      <td>...</td>\n",
       "      <td>NaN</td>\n",
       "      <td>NaN</td>\n",
       "      <td>NaN</td>\n",
       "      <td>NaN</td>\n",
       "      <td>NaN</td>\n",
       "      <td>NaN</td>\n",
       "      <td>NaN</td>\n",
       "      <td>NaN</td>\n",
       "      <td>NaN</td>\n",
       "      <td>NaN</td>\n",
       "    </tr>\n",
       "    <tr>\n",
       "      <th>2</th>\n",
       "      <td>A10T0OW97SFBB</td>\n",
       "      <td>5.0</td>\n",
       "      <td>NaN</td>\n",
       "      <td>NaN</td>\n",
       "      <td>NaN</td>\n",
       "      <td>NaN</td>\n",
       "      <td>NaN</td>\n",
       "      <td>NaN</td>\n",
       "      <td>NaN</td>\n",
       "      <td>NaN</td>\n",
       "      <td>...</td>\n",
       "      <td>NaN</td>\n",
       "      <td>NaN</td>\n",
       "      <td>NaN</td>\n",
       "      <td>NaN</td>\n",
       "      <td>NaN</td>\n",
       "      <td>NaN</td>\n",
       "      <td>NaN</td>\n",
       "      <td>NaN</td>\n",
       "      <td>NaN</td>\n",
       "      <td>NaN</td>\n",
       "    </tr>\n",
       "    <tr>\n",
       "      <th>3</th>\n",
       "      <td>A10Y3OZWENAQ6W</td>\n",
       "      <td>NaN</td>\n",
       "      <td>NaN</td>\n",
       "      <td>NaN</td>\n",
       "      <td>NaN</td>\n",
       "      <td>NaN</td>\n",
       "      <td>NaN</td>\n",
       "      <td>NaN</td>\n",
       "      <td>NaN</td>\n",
       "      <td>NaN</td>\n",
       "      <td>...</td>\n",
       "      <td>NaN</td>\n",
       "      <td>NaN</td>\n",
       "      <td>NaN</td>\n",
       "      <td>NaN</td>\n",
       "      <td>NaN</td>\n",
       "      <td>NaN</td>\n",
       "      <td>NaN</td>\n",
       "      <td>NaN</td>\n",
       "      <td>NaN</td>\n",
       "      <td>NaN</td>\n",
       "    </tr>\n",
       "    <tr>\n",
       "      <th>4</th>\n",
       "      <td>A1129LM24YWSZV</td>\n",
       "      <td>NaN</td>\n",
       "      <td>NaN</td>\n",
       "      <td>NaN</td>\n",
       "      <td>NaN</td>\n",
       "      <td>NaN</td>\n",
       "      <td>NaN</td>\n",
       "      <td>NaN</td>\n",
       "      <td>NaN</td>\n",
       "      <td>NaN</td>\n",
       "      <td>...</td>\n",
       "      <td>NaN</td>\n",
       "      <td>NaN</td>\n",
       "      <td>NaN</td>\n",
       "      <td>NaN</td>\n",
       "      <td>NaN</td>\n",
       "      <td>NaN</td>\n",
       "      <td>NaN</td>\n",
       "      <td>NaN</td>\n",
       "      <td>NaN</td>\n",
       "      <td>NaN</td>\n",
       "    </tr>\n",
       "  </tbody>\n",
       "</table>\n",
       "<p>5 rows × 2136 columns</p>\n",
       "</div>"
      ],
      "text/plain": [
       "          User_id  \"Chosen\" Classics: Round the World in Eighty Days  \\\n",
       "0   A106016KSI0YQ                                                NaN   \n",
       "1  A106E1N0ZQ4D9W                                                NaN   \n",
       "2   A10T0OW97SFBB                                                5.0   \n",
       "3  A10Y3OZWENAQ6W                                                NaN   \n",
       "4  A1129LM24YWSZV                                                NaN   \n",
       "\n",
       "   \"D\" is for Deadbeat  \"Mildred Pierce  \"Ra Force Rising\": Brother G  \\\n",
       "0                  NaN              NaN                           NaN   \n",
       "1                  NaN              NaN                           NaN   \n",
       "2                  NaN              NaN                           NaN   \n",
       "3                  NaN              NaN                           NaN   \n",
       "4                  NaN              NaN                           NaN   \n",
       "\n",
       "   \"Thirty years in hell\"; or, \"From darkness to light  \\\n",
       "0                                                NaN     \n",
       "1                                                NaN     \n",
       "2                                                NaN     \n",
       "3                                                NaN     \n",
       "4                                                NaN     \n",
       "\n",
       "   'Tis The Season: The Choice\\First Fruits\\A New Year; A New Beginning  \\\n",
       "0                                                NaN                      \n",
       "1                                                NaN                      \n",
       "2                                                NaN                      \n",
       "3                                                NaN                      \n",
       "4                                                NaN                      \n",
       "\n",
       "   'Tis the Season to Be Murdered  ... Summer moonshine  \\\n",
       "0                             NaN                   NaN   \n",
       "1                             NaN                   NaN   \n",
       "2                             NaN                   NaN   \n",
       "3                             NaN                   NaN   \n",
       "4                             NaN                   NaN   \n",
       "\n",
       "   ...Arrow pointing nowhere  ...  \\\n",
       "0                        NaN  ...   \n",
       "1                        2.0  ...   \n",
       "2                        NaN  ...   \n",
       "3                        NaN  ...   \n",
       "4                        NaN  ...   \n",
       "\n",
       "   Zane's Gettin' Buck Wild: Sex Chronicles II  Zane's Skyscraper: A Novel  \\\n",
       "0                                          NaN                         NaN   \n",
       "1                                          NaN                         NaN   \n",
       "2                                          NaN                         NaN   \n",
       "3                                          NaN                         NaN   \n",
       "4                                          NaN                         NaN   \n",
       "\n",
       "   Zazie dans le Mtro  Zen Attitude  Zia  Zorba the Greek  green valley  \\\n",
       "0                 NaN           NaN  NaN              NaN           NaN   \n",
       "1                 NaN           NaN  NaN              NaN           NaN   \n",
       "2                 NaN           NaN  NaN              NaN           NaN   \n",
       "3                 NaN           NaN  NaN              NaN           NaN   \n",
       "4                 NaN           NaN  NaN              NaN           NaN   \n",
       "\n",
       "   never too much  our davie pepper  the Picture of Dorian Gray  \n",
       "0             NaN               NaN                         NaN  \n",
       "1             NaN               NaN                         NaN  \n",
       "2             NaN               NaN                         NaN  \n",
       "3             NaN               NaN                         NaN  \n",
       "4             NaN               NaN                         NaN  \n",
       "\n",
       "[5 rows x 2136 columns]"
      ]
     },
     "execution_count": 858,
     "metadata": {},
     "output_type": "execute_result"
    }
   ],
   "source": [
    "ratings_df = pd.read_csv('ratings_matrix.csv')\n",
    "ratings_df.head()"
   ]
  },
  {
   "cell_type": "code",
   "execution_count": 859,
   "id": "18925b09-dbd4-418d-9fdf-fde28148db69",
   "metadata": {},
   "outputs": [
    {
     "name": "stdout",
     "output_type": "stream",
     "text": [
      "0     A106016KSI0YQ\n",
      "1    A106E1N0ZQ4D9W\n",
      "2     A10T0OW97SFBB\n",
      "3    A10Y3OZWENAQ6W\n",
      "4    A1129LM24YWSZV\n",
      "5    A114YQ7ZT9Y1W5\n",
      "6    A116J8AUC3JSN2\n",
      "7    A11B61QBGHLQDN\n",
      "8    A11DCTGTPS7M0C\n",
      "9    A11DN4ZLL2G5TG\n",
      "Name: User_id, dtype: object\n",
      "Index(['\"Chosen\" Classics: Round the World in Eighty Days',\n",
      "       '\"D\" is for Deadbeat', '\"Mildred Pierce',\n",
      "       '\"Ra Force Rising\": Brother G',\n",
      "       '\"Thirty years in hell\"; or, \"From darkness to light',\n",
      "       ''Tis The Season: The Choice\\First Fruits\\A New Year; A New Beginning',\n",
      "       ''Tis the Season to Be Murdered', '... Summer moonshine',\n",
      "       '...Arrow pointing nowhere', '1 Ragged Ridge Road'],\n",
      "      dtype='object')\n"
     ]
    }
   ],
   "source": [
    "users = ratings_df['User_id']\n",
    "ratings_df = ratings_df.drop('User_id',axis=1)\n",
    "books = ratings_df.columns\n",
    "print(users[0:10])\n",
    "print(books[0:10])\n"
   ]
  },
  {
   "cell_type": "code",
   "execution_count": 860,
   "id": "de0a6a37-33f5-47a5-b24f-43e29e546aeb",
   "metadata": {},
   "outputs": [
    {
     "data": {
      "text/html": [
       "<div>\n",
       "<style scoped>\n",
       "    .dataframe tbody tr th:only-of-type {\n",
       "        vertical-align: middle;\n",
       "    }\n",
       "\n",
       "    .dataframe tbody tr th {\n",
       "        vertical-align: top;\n",
       "    }\n",
       "\n",
       "    .dataframe thead th {\n",
       "        text-align: right;\n",
       "    }\n",
       "</style>\n",
       "<table border=\"1\" class=\"dataframe\">\n",
       "  <thead>\n",
       "    <tr style=\"text-align: right;\">\n",
       "      <th></th>\n",
       "      <th>\"Chosen\" Classics: Round the World in Eighty Days</th>\n",
       "      <th>\"D\" is for Deadbeat</th>\n",
       "      <th>\"Mildred Pierce</th>\n",
       "      <th>\"Ra Force Rising\": Brother G</th>\n",
       "      <th>\"Thirty years in hell\"; or, \"From darkness to light</th>\n",
       "      <th>'Tis The Season: The Choice\\First Fruits\\A New Year; A New Beginning</th>\n",
       "      <th>'Tis the Season to Be Murdered</th>\n",
       "      <th>... Summer moonshine</th>\n",
       "      <th>...Arrow pointing nowhere</th>\n",
       "      <th>1 Ragged Ridge Road</th>\n",
       "      <th>...</th>\n",
       "      <th>Zane's Gettin' Buck Wild: Sex Chronicles II</th>\n",
       "      <th>Zane's Skyscraper: A Novel</th>\n",
       "      <th>Zazie dans le Mtro</th>\n",
       "      <th>Zen Attitude</th>\n",
       "      <th>Zia</th>\n",
       "      <th>Zorba the Greek</th>\n",
       "      <th>green valley</th>\n",
       "      <th>never too much</th>\n",
       "      <th>our davie pepper</th>\n",
       "      <th>the Picture of Dorian Gray</th>\n",
       "    </tr>\n",
       "  </thead>\n",
       "  <tbody>\n",
       "    <tr>\n",
       "      <th>0</th>\n",
       "      <td>False</td>\n",
       "      <td>False</td>\n",
       "      <td>False</td>\n",
       "      <td>False</td>\n",
       "      <td>False</td>\n",
       "      <td>False</td>\n",
       "      <td>False</td>\n",
       "      <td>False</td>\n",
       "      <td>False</td>\n",
       "      <td>False</td>\n",
       "      <td>...</td>\n",
       "      <td>False</td>\n",
       "      <td>False</td>\n",
       "      <td>False</td>\n",
       "      <td>False</td>\n",
       "      <td>False</td>\n",
       "      <td>False</td>\n",
       "      <td>False</td>\n",
       "      <td>False</td>\n",
       "      <td>False</td>\n",
       "      <td>False</td>\n",
       "    </tr>\n",
       "    <tr>\n",
       "      <th>1</th>\n",
       "      <td>False</td>\n",
       "      <td>False</td>\n",
       "      <td>False</td>\n",
       "      <td>False</td>\n",
       "      <td>False</td>\n",
       "      <td>False</td>\n",
       "      <td>False</td>\n",
       "      <td>False</td>\n",
       "      <td>True</td>\n",
       "      <td>False</td>\n",
       "      <td>...</td>\n",
       "      <td>False</td>\n",
       "      <td>False</td>\n",
       "      <td>False</td>\n",
       "      <td>False</td>\n",
       "      <td>False</td>\n",
       "      <td>False</td>\n",
       "      <td>False</td>\n",
       "      <td>False</td>\n",
       "      <td>False</td>\n",
       "      <td>False</td>\n",
       "    </tr>\n",
       "    <tr>\n",
       "      <th>2</th>\n",
       "      <td>True</td>\n",
       "      <td>False</td>\n",
       "      <td>False</td>\n",
       "      <td>False</td>\n",
       "      <td>False</td>\n",
       "      <td>False</td>\n",
       "      <td>False</td>\n",
       "      <td>False</td>\n",
       "      <td>False</td>\n",
       "      <td>False</td>\n",
       "      <td>...</td>\n",
       "      <td>False</td>\n",
       "      <td>False</td>\n",
       "      <td>False</td>\n",
       "      <td>False</td>\n",
       "      <td>False</td>\n",
       "      <td>False</td>\n",
       "      <td>False</td>\n",
       "      <td>False</td>\n",
       "      <td>False</td>\n",
       "      <td>False</td>\n",
       "    </tr>\n",
       "    <tr>\n",
       "      <th>3</th>\n",
       "      <td>False</td>\n",
       "      <td>False</td>\n",
       "      <td>False</td>\n",
       "      <td>False</td>\n",
       "      <td>False</td>\n",
       "      <td>False</td>\n",
       "      <td>False</td>\n",
       "      <td>False</td>\n",
       "      <td>False</td>\n",
       "      <td>False</td>\n",
       "      <td>...</td>\n",
       "      <td>False</td>\n",
       "      <td>False</td>\n",
       "      <td>False</td>\n",
       "      <td>False</td>\n",
       "      <td>False</td>\n",
       "      <td>False</td>\n",
       "      <td>False</td>\n",
       "      <td>False</td>\n",
       "      <td>False</td>\n",
       "      <td>False</td>\n",
       "    </tr>\n",
       "    <tr>\n",
       "      <th>4</th>\n",
       "      <td>False</td>\n",
       "      <td>False</td>\n",
       "      <td>False</td>\n",
       "      <td>False</td>\n",
       "      <td>False</td>\n",
       "      <td>False</td>\n",
       "      <td>False</td>\n",
       "      <td>False</td>\n",
       "      <td>False</td>\n",
       "      <td>False</td>\n",
       "      <td>...</td>\n",
       "      <td>False</td>\n",
       "      <td>False</td>\n",
       "      <td>False</td>\n",
       "      <td>False</td>\n",
       "      <td>False</td>\n",
       "      <td>False</td>\n",
       "      <td>False</td>\n",
       "      <td>False</td>\n",
       "      <td>False</td>\n",
       "      <td>False</td>\n",
       "    </tr>\n",
       "  </tbody>\n",
       "</table>\n",
       "<p>5 rows × 2135 columns</p>\n",
       "</div>"
      ],
      "text/plain": [
       "   \"Chosen\" Classics: Round the World in Eighty Days  \"D\" is for Deadbeat  \\\n",
       "0                                              False                False   \n",
       "1                                              False                False   \n",
       "2                                               True                False   \n",
       "3                                              False                False   \n",
       "4                                              False                False   \n",
       "\n",
       "   \"Mildred Pierce  \"Ra Force Rising\": Brother G  \\\n",
       "0            False                         False   \n",
       "1            False                         False   \n",
       "2            False                         False   \n",
       "3            False                         False   \n",
       "4            False                         False   \n",
       "\n",
       "   \"Thirty years in hell\"; or, \"From darkness to light  \\\n",
       "0                                              False     \n",
       "1                                              False     \n",
       "2                                              False     \n",
       "3                                              False     \n",
       "4                                              False     \n",
       "\n",
       "   'Tis The Season: The Choice\\First Fruits\\A New Year; A New Beginning  \\\n",
       "0                                              False                      \n",
       "1                                              False                      \n",
       "2                                              False                      \n",
       "3                                              False                      \n",
       "4                                              False                      \n",
       "\n",
       "   'Tis the Season to Be Murdered  ... Summer moonshine  \\\n",
       "0                           False                 False   \n",
       "1                           False                 False   \n",
       "2                           False                 False   \n",
       "3                           False                 False   \n",
       "4                           False                 False   \n",
       "\n",
       "   ...Arrow pointing nowhere  1 Ragged Ridge Road  ...  \\\n",
       "0                      False                False  ...   \n",
       "1                       True                False  ...   \n",
       "2                      False                False  ...   \n",
       "3                      False                False  ...   \n",
       "4                      False                False  ...   \n",
       "\n",
       "   Zane's Gettin' Buck Wild: Sex Chronicles II  Zane's Skyscraper: A Novel  \\\n",
       "0                                        False                       False   \n",
       "1                                        False                       False   \n",
       "2                                        False                       False   \n",
       "3                                        False                       False   \n",
       "4                                        False                       False   \n",
       "\n",
       "   Zazie dans le Mtro  Zen Attitude    Zia  Zorba the Greek  green valley  \\\n",
       "0               False         False  False            False         False   \n",
       "1               False         False  False            False         False   \n",
       "2               False         False  False            False         False   \n",
       "3               False         False  False            False         False   \n",
       "4               False         False  False            False         False   \n",
       "\n",
       "   never too much  our davie pepper  the Picture of Dorian Gray  \n",
       "0           False             False                       False  \n",
       "1           False             False                       False  \n",
       "2           False             False                       False  \n",
       "3           False             False                       False  \n",
       "4           False             False                       False  \n",
       "\n",
       "[5 rows x 2135 columns]"
      ]
     },
     "execution_count": 860,
     "metadata": {},
     "output_type": "execute_result"
    }
   ],
   "source": [
    "ratings_df.fillna(0, inplace=True)\n",
    "#ratings_df[ratings_df < 3] = 0\n",
    "ratings_df = ratings_df.astype(bool)\n",
    "ratings_df.head()"
   ]
  },
  {
   "cell_type": "markdown",
   "id": "a40ef922-9d05-422d-8387-dd16b56a02ca",
   "metadata": {},
   "source": [
    "## Apriori/Inference Rules Algorithm from Scratch\n",
    "\n",
    "The apriori algorithm works by setting a minimum support threshhold and discarding any transaction sets which fall below this threshold. Checking all transaction sets would be copmutationally expensive. Instead, apriori checks the transaction of just one item at a time. If the single item transaction has sufficient support, then it is saved for later. We then move on to the next single element transaction. If it is sufficient, we save it for later. We then combine the single element transaction with all previously saved transaction subsets, keeping those new subsets which have sufficient support. The process is repeated for each possible item in our transactions. This allows us to find all useful transaction subsets while only passing over the data once.\n",
    "\n",
    "After finding the transactions with sufficient support, we search for suitable asociation rules, keeping only those rules which surpass a confidence threshold. To create an association rule we simply partition one of the transaction sets found previously into antecedent and consequent sets. We then calculate the confidence for this rule to determine whether we should keep it or not.\n",
    "\n",
    "#### Support\n",
    "Support quantifies how often a transaction appears in the data. This helps us to focus on only those transaction for which finding an association rule will be consequential. Support is calculated as the probability of finding the transaction subset being part of one of the given transactions.\n",
    "$$S(t) = P(t\\subseteq T) = \\frac{\\lvert t \\rvert}{\\lvert T \\rvert}$$\n",
    "\n",
    "### Confidence\n",
    "Confidence tells us what you would imagine, how confident we are that it is a good rule. Confidence is calculated as the conditional probability of the consequent happening given that the antecedent occured.\n",
    "$$C(A \\implies B) = P(B\\vert A) = \\frac{P(B\\cap A)}{P(A)}$$"
   ]
  },
  {
   "cell_type": "code",
   "execution_count": 861,
   "id": "8309127c-ea3a-4f3c-a76c-6541758ec014",
   "metadata": {},
   "outputs": [],
   "source": [
    "class apriori_rules:\n",
    "    def __init__(self, support_threshold = 0.8):\n",
    "        self.support_threshold = support_threshold\n",
    "        self.confidence_threshold = None\n",
    "        self.confidence_threshold = None\n",
    "        self.transaction_subsets = None\n",
    "        self.supported_t = None\n",
    "        self.supported_values = None\n",
    "        self.data = None\n",
    "        self.itemsets = None\n",
    "        self.rules = None\n",
    "\n",
    "\n",
    "    def fit(self, X):\n",
    "        \n",
    "        '''Fits the transaction set. Search for transaction subset with sufficient support. \n",
    "        Save array/df of transactions and support as class attribute.\n",
    "        X, our data, is the set of transactions. It should be in the form of rows of transactions.\n",
    "        For each possible item in a transaction, there should be a column of binary values.'''\n",
    "\n",
    "        X_array = X.to_numpy()\n",
    "        self.data = X_array\n",
    "        X_transpose = X_array.T\n",
    "        #get number of transactions\n",
    "        total_transactions = X_array.shape[0]\n",
    "        #list of transactions which have sufficient support\n",
    "        self.supported_t = []\n",
    "        #list of support values for itemsets in supported_t\n",
    "        self.support_values = []\n",
    "        #dictionary to hold the chosen itemsets and their associted support values for easy access later\n",
    "        self.itemsets = {}\n",
    "        #holds indices of rows which hvae supported item sets\n",
    "        supported_rows = []\n",
    "        \n",
    "        \n",
    "        #Check each single element set, combine with prvious sets, save sufficent sets\n",
    "        for index, col in enumerate(X_transpose):\n",
    "            col_support = col.sum()/total_transactions\n",
    "            #if not enough support for single element itemset, continue since no other itemset with that item will have enough support\n",
    "            if col_support < self.support_threshold:\n",
    "                continue\n",
    "\n",
    "            #update our list of supported transactions\n",
    "            copy_supported_t = self.supported_t.copy()\n",
    "            for t in copy_supported_t:\n",
    "                mask = X_array[:, tuple(t+[index])].all(axis=1)\n",
    "                count = mask.sum()\n",
    "                itemset_support = count/total_transactions\n",
    "                if itemset_support > self.support_threshold:\n",
    "                    self.supported_t.append(t + [index])\n",
    "                    self.support_values.append((itemset_support))\n",
    "                    self.itemsets[tuple(t + [index])] = itemset_support\n",
    "             \n",
    "            #add single element itemset\n",
    "            self.supported_t.append([index])\n",
    "            self.support_values.append((col_support))\n",
    "            self.itemsets[tuple([index])] = col_support\n",
    "\n",
    "        df_dict = {'itemsets': self.supported_t, 'support':self.support_values}\n",
    "        self.transaction_subsets = pd.DataFrame(df_dict)\n",
    "\n",
    "        return\n",
    "\n",
    "    def find_rules(self, confidence_threshold=0.8):\n",
    "        self.confidence_threshold = confidence_threshold\n",
    "        #lists to hold rule information. Will be made into a DataFrame at the end\n",
    "        antecedent_list = []\n",
    "        consequent_list = []\n",
    "        support_list = []\n",
    "        confidence_list = []\n",
    "        \n",
    "        for itemset, support in self.itemsets.items():\n",
    "            if len(itemset) == 1:\n",
    "                continue\n",
    "            #get all combinations of possible combinations of antecedent -> consequent pairs\n",
    "            #get all possible antecedents of all possible lengths\n",
    "            for k in range(1,len(itemset)):\n",
    "                combs = list(combinations(itemset,k))\n",
    "                for antecedent in combs:\n",
    "                    #calculate confidence\n",
    "                    confidence = support/self.itemsets[tuple(antecedent)]\n",
    "                    if confidence >= confidence_threshold:\n",
    "                        consequent = tuple(c for c in itemset if c not in antecedent) #find consequent\n",
    "                        #save to rules dictionary\n",
    "                        antecedent_list.append(antecedent)\n",
    "                        consequent_list.append(consequent)\n",
    "                        support_list.append(support)\n",
    "                        confidence_list.append(confidence)\n",
    "            \n",
    "        #create rules dataframe\n",
    "        df_dict = {'antecedents': antecedent_list, 'consequents':consequent_list, 'support':support_list,'confidence':confidence_list}\n",
    "        self.rules = pd.DataFrame(df_dict)\n",
    "          \n",
    "        return"
   ]
  },
  {
   "cell_type": "markdown",
   "id": "89e3a337-942a-498e-9f9a-16fdfae3d274",
   "metadata": {},
   "source": [
    "### \"Training\"\n",
    "We choose a support threshold of 0.01 and a confidence threshold of 0.6. This was done in an attempt to balance several factors.<br>\n",
    "We wanted to keep precision high while also generate enough recommendations<br>\n",
    "With a higher confidence, the precision improves, but there are too few recommendations for users with few ratings<br>\n",
    "With a lower support there will be more ratings, but this also creates more rules which leads to longer inference time and more data memorization.<br>\n",
    "With a support = 0.01, we only consider item subsets which occur at least 0.01 * 1066 = 10.66 times (at least 11 times)"
   ]
  },
  {
   "cell_type": "code",
   "execution_count": 900,
   "id": "0dc35ef6-c334-46d4-bf2d-557bd4b55f62",
   "metadata": {},
   "outputs": [
    {
     "name": "stdout",
     "output_type": "stream",
     "text": [
      "                 itemsets   support\n",
      "0                     [0]  0.033771\n",
      "1                     [1]  0.025328\n",
      "2                     [2]  0.013133\n",
      "3                     [5]  0.030019\n",
      "4                     [7]  0.019700\n",
      "...                   ...       ...\n",
      "18153  [1014, 2102, 2134]  0.014071\n",
      "18154        [2102, 2134]  0.015009\n",
      "18155   [607, 2105, 2134]  0.014071\n",
      "18156        [2105, 2134]  0.014071\n",
      "18157              [2134]  0.061914\n",
      "\n",
      "[18158 rows x 2 columns]\n",
      "  antecedents consequents   support  confidence\n",
      "0        (0,)      (115,)  0.032833    0.972222\n",
      "1      (115,)        (0,)  0.032833    1.000000\n",
      "2      (149,)      (150,)  0.025328    0.964286\n",
      "3      (183,)      (275,)  0.016886    0.600000\n",
      "4      (275,)      (183,)  0.016886    0.818182\n"
     ]
    }
   ],
   "source": [
    "apriori_model = apriori_rules(support_threshold=0.01)\n",
    "apriori_model.fit(ratings_df)\n",
    "print(apriori_model.transaction_subsets)\n",
    "\n",
    "apriori_model.find_rules(confidence_threshold = 0.6)\n",
    "print(apriori_model.rules.head())"
   ]
  },
  {
   "cell_type": "code",
   "execution_count": 909,
   "id": "32e59560-34bb-458e-9b6b-8009db83cead",
   "metadata": {},
   "outputs": [
    {
     "name": "stdout",
     "output_type": "stream",
     "text": [
      "(18158, 2)\n",
      "(72372, 4)\n"
     ]
    }
   ],
   "source": [
    "print(apriori_model.transaction_subsets.shape)\n",
    "print(apriori_model.rules.shape)"
   ]
  },
  {
   "cell_type": "code",
   "execution_count": 910,
   "id": "24e692cd-7330-4fde-a313-7d007f802aea",
   "metadata": {},
   "outputs": [
    {
     "data": {
      "text/plain": [
       "np.float64(0.6)"
      ]
     },
     "execution_count": 910,
     "metadata": {},
     "output_type": "execute_result"
    }
   ],
   "source": [
    "apriori_model.rules['confidence'].min()"
   ]
  },
  {
   "cell_type": "markdown",
   "id": "f4068c42-e497-45bf-ad9c-0b68a557c156",
   "metadata": {},
   "source": [
    "#### Save the association rules as a dataframe\n",
    "This can be accesed any time to make recommendations"
   ]
  },
  {
   "cell_type": "code",
   "execution_count": 911,
   "id": "56965351-45b7-4fd1-85ea-671de0751267",
   "metadata": {},
   "outputs": [],
   "source": [
    "apriori_model.rules.to_csv('/home/ldrich/Summer2025BHT/DS_Workflow_Applications/recommender_project/BHTRecommenderProject/mined_association_rules.csv')"
   ]
  },
  {
   "cell_type": "markdown",
   "id": "9eca9509-53d2-449a-b1b3-ba46d813c561",
   "metadata": {},
   "source": [
    "### Check our algorithm agrees with the one in mlxtend package\n",
    "It does. Yay!"
   ]
  },
  {
   "cell_type": "code",
   "execution_count": 912,
   "id": "a6d929a5-e873-4ef7-9e02-378d2575333d",
   "metadata": {},
   "outputs": [],
   "source": [
    "import mlxtend\n",
    "from mlxtend.frequent_patterns import apriori\n",
    "from mlxtend.frequent_patterns import association_rules"
   ]
  },
  {
   "cell_type": "code",
   "execution_count": 913,
   "id": "1eef29b3-5956-417b-823c-b6283775aa0a",
   "metadata": {},
   "outputs": [
    {
     "name": "stdout",
     "output_type": "stream",
     "text": [
      "    support                                           itemsets\n",
      "0  0.033771  (\"Chosen\" Classics: Round the World in Eighty ...\n",
      "1  0.025328                              (\"D\" is for Deadbeat)\n",
      "2  0.013133                                  (\"Mildred Pierce)\n",
      "3  0.030019  ('Tis The Season: The Choice\\First Fruits\\A Ne...\n",
      "4  0.019700                             (... Summer moonshine)\n",
      "                                         antecedents  \\\n",
      "0  (Alice's adventures in wonderland: And Through...   \n",
      "1  (\"Chosen\" Classics: Round the World in Eighty ...   \n",
      "2  (\"Chosen\" Classics: Round the World in Eighty ...   \n",
      "3  (Instigating Profligacy: Aviva and Aisha's Adv...   \n",
      "4  (\"Chosen\" Classics: Round the World in Eighty ...   \n",
      "\n",
      "                                         consequents   support  confidence  \\\n",
      "0  (\"Chosen\" Classics: Round the World in Eighty ...  0.032833    1.000000   \n",
      "1  (Alice's adventures in wonderland: And Through...  0.032833    0.972222   \n",
      "2  (Instigating Profligacy: Aviva and Aisha's Adv...  0.032833    0.972222   \n",
      "3  (\"Chosen\" Classics: Round the World in Eighty ...  0.032833    1.000000   \n",
      "4  (LEWIS CARROLL (ALICE'S ADVENTURES IN WONDERLA...  0.032833    0.972222   \n",
      "\n",
      "        lift  \n",
      "0  29.611111  \n",
      "1  29.611111  \n",
      "2  29.611111  \n",
      "3  29.611111  \n",
      "4  25.909722  \n"
     ]
    }
   ],
   "source": [
    "frequent_itemsets = apriori(ratings_df, min_support=0.01, use_colnames=True)\n",
    "print(frequent_itemsets.head())\n",
    "rules = association_rules(frequent_itemsets, metric = 'confidence', min_threshold = 0.6)\n",
    "print(rules[['antecedents', 'consequents', 'support', 'confidence', 'lift']].head())"
   ]
  },
  {
   "cell_type": "code",
   "execution_count": 914,
   "id": "a9a9efdc-9b70-4d0d-9b8b-87419a00574c",
   "metadata": {},
   "outputs": [
    {
     "name": "stdout",
     "output_type": "stream",
     "text": [
      "(18158, 2)\n",
      "(72372, 14)\n"
     ]
    }
   ],
   "source": [
    "print(frequent_itemsets.shape)\n",
    "print(rules.shape)"
   ]
  },
  {
   "cell_type": "code",
   "execution_count": 915,
   "id": "3fc4d1a5-b662-4511-a719-e8298999ceb3",
   "metadata": {},
   "outputs": [
    {
     "data": {
      "text/plain": [
       "np.float64(0.6)"
      ]
     },
     "execution_count": 915,
     "metadata": {},
     "output_type": "execute_result"
    }
   ],
   "source": [
    "rules['confidence'].min()"
   ]
  },
  {
   "cell_type": "markdown",
   "id": "66afb413-3bb3-4cf9-aebb-fc6a3fb68433",
   "metadata": {},
   "source": [
    "### Evaluation\n",
    "We evaluate Precision and Recall at top 10. We focus mostly on precision, hoping to generate as few non relevant items as possible."
   ]
  },
  {
   "cell_type": "code",
   "execution_count": 865,
   "id": "a52668fb-2e49-4d60-8ce1-c25255b58d92",
   "metadata": {},
   "outputs": [],
   "source": [
    "def get_top_k_precision_recall(test_user_ratings, top_k = 10, mask_percentage = 0.4):\n",
    "\n",
    "    item_precision = []\n",
    "    item_recall = []\n",
    "    \n",
    "    for index, row in test_user_ratings.iterrows():\n",
    "        user_items = np.argwhere(row).flatten()\n",
    "        rng = np.random.default_rng(seed=1992) #set random state\n",
    "        #create visible items to make the predicitons with; masked items to test precision/recall\n",
    "        masked_items = rng.choice(user_items, int(mask_percentage * len(user_items)))\n",
    "        visible_items = [int(item) for item in user_items if item not in masked_items]\n",
    "    \n",
    "        #get top_k recommendations\n",
    "        mask = apriori_model.rules['antecedents'].apply(lambda a: set(a).issubset(visible_items)) #indices of antecedents that apply\n",
    "        recs = apriori_model.rules.loc[mask, ['consequents', 'confidence']] #get matching consequents as recommendations\n",
    "        recs = recs.sort_values(by='confidence', ascending=False)#sort by confidence\n",
    "        recs = recs[~recs['consequents'].duplicated()]#make recommendations unique\n",
    "        recs = recs.iloc[0:top_k, 0].to_list() #get top_k recommendations\n",
    "        recs = list(item for tpl in recs for item in tpl)\n",
    "        recs = recs[0:top_k] #redo since some consequents have more than 1 item.\n",
    "    \n",
    "        #calculate precision and recall\n",
    "        true_positives = len(set(recs) & set(masked_items))\n",
    "        precision = true_positives/len(recs) if len(recs) > 0 else 0\n",
    "        recall = true_positives/len(masked_items)\n",
    "    \n",
    "        #append to lists\n",
    "        item_precision.append(precision)\n",
    "        item_recall.append(recall)\n",
    "    \n",
    "    #calculate average top_k precision and recall\n",
    "    mean_precision = np.mean(item_precision)\n",
    "    mean_recall = np.mean(item_recall)\n",
    "    \n",
    "    return mean_precision, mean_recall"
   ]
  },
  {
   "cell_type": "code",
   "execution_count": 967,
   "id": "63f10ec8-6917-4abd-a634-f04ff05b01ed",
   "metadata": {},
   "outputs": [
    {
     "name": "stdout",
     "output_type": "stream",
     "text": [
      "Precision: 0.3\n",
      "Recall: 0.214\n"
     ]
    }
   ],
   "source": [
    "#calculate precision recall for user 2\n",
    "user_ratings = ratings_df.iloc[[2]]\n",
    "precision, recall = get_top_k_precision_recall(user_ratings)\n",
    "print(f'Precision: {precision}')\n",
    "print(f'Recall: {recall:.3f}')"
   ]
  },
  {
   "cell_type": "code",
   "execution_count": 968,
   "id": "a6296d62-15bb-4699-9cd2-b7b8403d72ae",
   "metadata": {},
   "outputs": [
    {
     "data": {
      "text/plain": [
       "(None, None)"
      ]
     },
     "execution_count": 968,
     "metadata": {},
     "output_type": "execute_result"
    }
   ],
   "source": [
    "#calculate average top-10 precision and recall for random sample of users\n",
    "top_k = 10\n",
    "mask_percentage = 0.4\n",
    "\n",
    "#collect data\n",
    "precision_list = []\n",
    "recall_list = []\n",
    "\n",
    "#get random sample of users with different amount of ratings\n",
    "#users with less than 30 ratings\n",
    "test_user_ratings = ratings_df[((ratings_df == 1).sum(axis=1) < 30)].sample(n=50, random_state=1992)\n",
    "precision, recall = get_top_k_precision_recall(test_user_ratings, top_k=top_k, mask_percentage=mask_percentage)\n",
    "precision_list.append(precision), recall_list.append(recall)\n",
    "\n",
    "test_user_ratings = ratings_df[((ratings_df == 1).sum(axis=1) >= 30) & ((ratings_df == 1).sum(axis=1) < 100)].sample(n=50,random_state=1992)\n",
    "precision, recall = get_top_k_precision_recall(test_user_ratings, top_k=top_k, mask_percentage=mask_percentage)\n",
    "precision_list.append(precision), recall_list.append(recall)\n",
    "\n",
    "test_user_ratings = ratings_df[((ratings_df == 1).sum(axis=1) >= 100) & ((ratings_df == 1).sum(axis=1) < 200)].sample(n=50,random_state=1992)\n",
    "precision, recall = get_top_k_precision_recall(test_user_ratings, top_k=top_k, mask_percentage=mask_percentage)\n",
    "precision_list.append(precision), recall_list.append(recall)\n",
    "\n",
    "test_user_ratings = ratings_df[((ratings_df == 1).sum(axis=1) >= 200)]\n",
    "precision, recall = get_top_k_precision_recall(test_user_ratings, top_k=top_k, mask_percentage=mask_percentage)\n",
    "precision_list.append(precision), recall_list.append(recall)\n"
   ]
  },
  {
   "cell_type": "code",
   "execution_count": 969,
   "id": "c5608e37-9730-4b01-96ad-18dab71ba76f",
   "metadata": {},
   "outputs": [
    {
     "data": {
      "text/plain": [
       "<matplotlib.legend.Legend at 0x7fea65698b30>"
      ]
     },
     "execution_count": 969,
     "metadata": {},
     "output_type": "execute_result"
    },
    {
     "data": {
      "image/png": "[encoded data removed]",
      "text/plain": [
       "<Figure size 640x480 with 1 Axes>"
      ]
     },
     "metadata": {},
     "output_type": "display_data"
    }
   ],
   "source": [
    "labels = [\"r < 30\",\"30 <= r < 100\", \"100 <= r < 200\", \"r > 200\"]\n",
    "plt.plot(labels, precision_list, '-o', label='Precision')\n",
    "plt.plot(labels, recall_list, '-o', label='Recall')\n",
    "plt.title(\"Precision @ top_10 \\n Users Grouped by Number of Ratings\")\n",
    "plt.legend()"
   ]
  },
  {
   "cell_type": "markdown",
   "id": "bafcdeb8-22a8-4559-9e03-2442037bffef",
   "metadata": {},
   "source": [
    "### Make Recommendations based on random user's rating vector"
   ]
  },
  {
   "cell_type": "code",
   "execution_count": 970,
   "id": "0deaabdf-653c-42da-b73b-bfbb197577f1",
   "metadata": {},
   "outputs": [],
   "source": [
    "def get_all_recs(user_ratings, extra_recs=False):\n",
    "    rated_items = np.argwhere(user_ratings).flatten() #column indeices of books that have been rated\n",
    "    mask = apriori_model.rules['antecedents'].apply(lambda a: set(a).issubset(rated_items)) #indices of antecedents that apply\n",
    "    recs = apriori_model.rules.loc[mask, 'consequents'] #get matching consequents as recommendations\n",
    "    recs = list(set(item for tpl in recs for item in tpl)) #make the recommendations unique\n",
    "    recs = [rec for rec in recs if rec not in rated_items]#remove recommendations matching items already in user list\n",
    "    book_recs = ratings_df.columns[recs]#map recs indices back to original book names\n",
    "    \n",
    "    \n",
    "    if extra_recs:\n",
    "        #get more book recommendations based on the ones already found\n",
    "        #!!!Doesn't work well, usually just get same books back; always get \"Sense and Sensibility\".\n",
    "        mask = apriori_model.rules['antecedents'].apply(lambda a: set(a).issubset(recs)) #indices of antecedents that apply\n",
    "        recs = apriori_model.rules.loc[mask, 'consequents'] #get matching consequents as recommendations\n",
    "        recs = list(set(item for tpl in recs for item in tpl)) #make the recommendations unique\n",
    "        recs = [rec for rec in recs if rec not in rated_items]#remove recommendations matching items already in user list\n",
    "        more_book_recs = ratings_df.columns[recs]#map recs indices back to original book names\n",
    "        #get rid of duplicates\n",
    "        book_recs = book_recs.union(more_book_recs)\n",
    "        \n",
    "    \n",
    "    return book_recs"
   ]
  },
  {
   "cell_type": "code",
   "execution_count": 971,
   "id": "61c9a5ce-9334-40a0-975d-5e1a4c2a111b",
   "metadata": {},
   "outputs": [
    {
     "data": {
      "text/plain": [
       "Index(['A History of the English-Speaking Peoples', 'At a winter's fire',\n",
       "       'Blind Man with a Pistol', 'Bringers of Death',\n",
       "       'Crossroads of Twilight', 'Franny, the Queen of Provincetown',\n",
       "       'La mujer del viajero en el tiempo / The Time Traveler's Wife',\n",
       "       'Lord Of Chaos)',\n",
       "       'The Dragon Reborn: Book Three of 'The Wheel of Time'',\n",
       "       'The Heaven Of Mercury', 'Whose body?: A Lord Peter Wimsey novel'],\n",
       "      dtype='object')"
      ]
     },
     "execution_count": 971,
     "metadata": {},
     "output_type": "execute_result"
    }
   ],
   "source": [
    "user_ratings = np.zeros(ratings_df.shape[1])\n",
    "rand_items = np.random.randint(ratings_df.shape[1], size=30)\n",
    "user_ratings[rand_items] = 1 #random user vector\n",
    "get_all_recs(user_ratings, extra_recs=True)"
   ]
  },
  {
   "cell_type": "markdown",
   "id": "3ffebae9-e9f6-4eae-a168-65fcf80d00e9",
   "metadata": {},
   "source": [
    "### Make Recommendations for user 2"
   ]
  },
  {
   "cell_type": "code",
   "execution_count": 972,
   "id": "cf9b0770-b9dc-443d-b96f-7f792aece818",
   "metadata": {},
   "outputs": [
    {
     "name": "stdout",
     "output_type": "stream",
     "text": [
      "Index(['\"Chosen\" Classics: Round the World in Eighty Days',\n",
      "       'AT THE FOOT OF THE RAINBOW',\n",
      "       'Alice's adventures in wonderland: And Through the looking-glass, and what Alice found there,',\n",
      "       'Brave New World', 'Cape Breton Road: A Novel',\n",
      "       'Captain from Castile & Prince of Foxes',\n",
      "       'CliffsComplete The Scarlet Letter', 'Fair Exchange Is Robbery',\n",
      "       'For Those Who Fell', 'I have no mouth,: And I must scream;',\n",
      "       'Instigating Profligacy: Aviva and Aisha's Adventures in the World',\n",
      "       'Japan Eow2', 'Just Sex', 'Kim',\n",
      "       'LEWIS CARROLL (ALICE'S ADVENTURES IN WONDERLAND, THROUGH THE LOOKING GLASS, THE HUNTING OF THE SNARK',\n",
      "       'Lion, the Witch, and the Wardrobe', 'Lord of Flemen',\n",
      "       'Man Who Was Thursday a Nightmare', 'Memories of the Future; [Novel]',\n",
      "       'Miranda & the Cat', 'New Orleans Beat', 'Plague at Redhook',\n",
      "       'Pride and Prejudice',\n",
      "       'THE PETAYBEE SEQUENCE: Book One: Powers that Be; Book Two: Power Lines; Book Three: Power Play',\n",
      "       'The Fox's Walk', 'The Girl at the Lion d'Or: Complete & Unabridged',\n",
      "       'The Honeywood file: An adventure in building',\n",
      "       'The Last Cattle Drive: 30th Anniversary Edition',\n",
      "       'The Zealot in My Closet: Searching for God in All the Wrong Places',\n",
      "       'The little hunchback Zia', 'Those in Peril',\n",
      "       'Till We Have Faces: A Myth Retold',\n",
      "       'Whose body?: A Lord Peter Wimsey novel', 'Worlds Apart',\n",
      "       'Worlds of the imperium', 'Wuthering Heights'],\n",
      "      dtype='object')\n"
     ]
    }
   ],
   "source": [
    "#inspect user 2's list of rated items\n",
    "user_ratings = ratings_df.iloc[2]\n",
    "rated_items = np.argwhere(user_ratings).flatten() #column indeices of books that have been rated\n",
    "user_books = ratings_df.columns[rated_items]\n",
    "print(user_books)"
   ]
  },
  {
   "cell_type": "code",
   "execution_count": 973,
   "id": "b59416da-8d8e-4864-ae4a-76bc641c0a94",
   "metadata": {},
   "outputs": [
    {
     "name": "stdout",
     "output_type": "stream",
     "text": [
      "Index(['A Farewell to Arms', 'Emma', 'George Orwell', 'Mansfield Park',\n",
      "       'Not Exactly Pregnant / Darn Near Perfect', 'Permutation City',\n",
      "       'Reunion at University Avenue', 'Sentido y sensibilidad',\n",
      "       'The Diablo Grant', 'The Snow Child: A Russian Folktale',\n",
      "       'The great Gatsby', 'The sun eaters', 'U-859',\n",
      "       'World of Darkness: Mafia'],\n",
      "      dtype='object')\n"
     ]
    }
   ],
   "source": [
    "#try user from our training set\n",
    "recs = get_all_recs(user_ratings, extra_recs=True)\n",
    "print(recs)"
   ]
  },
  {
   "cell_type": "markdown",
   "id": "f0a932ad-ee50-4647-96fd-891786989fca",
   "metadata": {},
   "source": [
    "#### Get the top books\n",
    "Items with the highest support"
   ]
  },
  {
   "cell_type": "code",
   "execution_count": 1009,
   "id": "510bba8b-4df6-4495-9e5b-221188640bdf",
   "metadata": {},
   "outputs": [
    {
     "data": {
      "text/plain": [
       "Index(['CHEF WHO DIED SAUTEING', 'The Diablo Grant', 'The great Gatsby',\n",
       "       'The Diablo Grant', 'The great Gatsby',\n",
       "       'The Girl at the Lion d'Or: Complete & Unabridged',\n",
       "       'To kill a mockingbird', 'Cape Breton Road: A Novel', 'U-859',\n",
       "       'The sun eaters', 'George Orwell', 'George Orwell', 'U-859',\n",
       "       'Propeller Island',\n",
       "       'The Hobbitt, or there and back again; illustrated by the author.',\n",
       "       'Round the Bend', 'Lincoln & other poems', 'Memoirs of a Geisha',\n",
       "       'Pride and Prejudice', 'A Key for the Nonesuch:',\n",
       "       'World of Darkness: Mafia',\n",
       "       'Slaughterhouse-five: Or, The children's crusade : a duty-dance with death',\n",
       "       'Slaughter-House Five',\n",
       "       'Slaughterhouse-five: Or, The children's crusade : a duty-dance with death',\n",
       "       'Slaughter-House Five', 'The poisonwood Bible : a novel',\n",
       "       'New Orleans Beat', 'What Love Means to You People',\n",
       "       'Worlds of the imperium', 'Reconstructionist, The', 'Brave New World',\n",
       "       'The Last Cattle Drive: 30th Anniversary Edition', 'Heller with a Gun'],\n",
       "      dtype='object')"
      ]
     },
     "execution_count": 1009,
     "metadata": {},
     "output_type": "execute_result"
    }
   ],
   "source": [
    "top_k = 30\n",
    "#indices of supported items in descending order\n",
    "top_indices = np.argsort(-np.array(apriori_model.support_values))[0:top_k]\n",
    "#get the items\n",
    "top_books = [apriori_model.supported_t[i] for i in top_indices]\n",
    "top_books = [item for sublist in top_books for item in sublist]\n",
    "ratings_df.columns[top_books]"
   ]
  },
  {
   "cell_type": "code",
   "execution_count": 1007,
   "id": "e5080716-ac0e-4b30-9264-37b4b8757892",
   "metadata": {},
   "outputs": [
    {
     "data": {
      "text/plain": [
       "Index(['\"Chosen\" Classics: Round the World in Eighty Days',\n",
       "       '\"D\" is for Deadbeat', '\"Mildred Pierce',\n",
       "       '\"Ra Force Rising\": Brother G',\n",
       "       '\"Thirty years in hell\"; or, \"From darkness to light',\n",
       "       ''Tis The Season: The Choice\\First Fruits\\A New Year; A New Beginning',\n",
       "       ''Tis the Season to Be Murdered', '... Summer moonshine',\n",
       "       '...Arrow pointing nowhere', '1 Ragged Ridge Road',\n",
       "       ...\n",
       "       'Zane's Gettin' Buck Wild: Sex Chronicles II',\n",
       "       'Zane's Skyscraper: A Novel', 'Zazie dans le Mtro', 'Zen Attitude',\n",
       "       'Zia', 'Zorba the Greek', 'green valley', 'never too much',\n",
       "       'our davie pepper', 'the Picture of Dorian Gray'],\n",
       "      dtype='object', length=2135)"
      ]
     },
     "execution_count": 1007,
     "metadata": {},
     "output_type": "execute_result"
    }
   ],
   "source": []
  },
  {
   "cell_type": "code",
   "execution_count": null,
   "id": "7f51d596-b3ed-4c50-b8d4-e690b1f08807",
   "metadata": {},
   "outputs": [],
   "source": []
  }
 ],
 "metadata": {
  "kernelspec": {
   "display_name": "Python 3 (ipykernel)",
   "language": "python",
   "name": "python3"
  },
  "language_info": {
   "codemirror_mode": {
    "name": "ipython",
    "version": 3
   },
   "file_extension": ".py",
   "mimetype": "text/x-python",
   "name": "python",
   "nbconvert_exporter": "python",
   "pygments_lexer": "ipython3",
   "version": "3.12.3"
  }
 },
 "nbformat": 4,
 "nbformat_minor": 5
}
