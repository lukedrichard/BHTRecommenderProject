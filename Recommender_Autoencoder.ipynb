{
 "cells": [
  {
   "cell_type": "code",
   "execution_count": 189,
   "id": "bb463b90-8a60-44fa-9612-8dadda16cc47",
   "metadata": {},
   "outputs": [],
   "source": [
    "import numpy as np\n",
    "import pandas as pd\n",
    "import matplotlib.pyplot as plt\n",
    "\n",
    "import tensorflow as tf\n",
    "from tensorflow.keras.models import Model\n",
    "from tensorflow.keras import layers\n",
    "from tensorflow.keras import backend as K\n",
    "from tensorflow.keras.callbacks import EarlyStopping, Callback\n",
    "from tensorflow.keras import regularizers\n",
    "from sklearn.model_selection import train_test_split "
   ]
  },
  {
   "cell_type": "code",
   "execution_count": 190,
   "id": "e2016406-1e79-4e5a-80b1-c63645dd60c6",
   "metadata": {},
   "outputs": [
    {
     "data": {
      "text/html": [
       "<div>\n",
       "<style scoped>\n",
       "    .dataframe tbody tr th:only-of-type {\n",
       "        vertical-align: middle;\n",
       "    }\n",
       "\n",
       "    .dataframe tbody tr th {\n",
       "        vertical-align: top;\n",
       "    }\n",
       "\n",
       "    .dataframe thead th {\n",
       "        text-align: right;\n",
       "    }\n",
       "</style>\n",
       "<table border=\"1\" class=\"dataframe\">\n",
       "  <thead>\n",
       "    <tr style=\"text-align: right;\">\n",
       "      <th></th>\n",
       "      <th>User_id</th>\n",
       "      <th>\"Chosen\" Classics: Round the World in Eighty Days</th>\n",
       "      <th>\"D\" is for Deadbeat</th>\n",
       "      <th>\"Mildred Pierce</th>\n",
       "      <th>\"Ra Force Rising\": Brother G</th>\n",
       "      <th>\"Thirty years in hell\"; or, \"From darkness to light</th>\n",
       "      <th>'Tis The Season: The Choice\\First Fruits\\A New Year; A New Beginning</th>\n",
       "      <th>'Tis the Season to Be Murdered</th>\n",
       "      <th>... Summer moonshine</th>\n",
       "      <th>...Arrow pointing nowhere</th>\n",
       "      <th>...</th>\n",
       "      <th>Zane's Gettin' Buck Wild: Sex Chronicles II</th>\n",
       "      <th>Zane's Skyscraper: A Novel</th>\n",
       "      <th>Zazie dans le Mtro</th>\n",
       "      <th>Zen Attitude</th>\n",
       "      <th>Zia</th>\n",
       "      <th>Zorba the Greek</th>\n",
       "      <th>green valley</th>\n",
       "      <th>never too much</th>\n",
       "      <th>our davie pepper</th>\n",
       "      <th>the Picture of Dorian Gray</th>\n",
       "    </tr>\n",
       "  </thead>\n",
       "  <tbody>\n",
       "    <tr>\n",
       "      <th>0</th>\n",
       "      <td>A106016KSI0YQ</td>\n",
       "      <td>NaN</td>\n",
       "      <td>NaN</td>\n",
       "      <td>NaN</td>\n",
       "      <td>NaN</td>\n",
       "      <td>NaN</td>\n",
       "      <td>NaN</td>\n",
       "      <td>NaN</td>\n",
       "      <td>NaN</td>\n",
       "      <td>NaN</td>\n",
       "      <td>...</td>\n",
       "      <td>NaN</td>\n",
       "      <td>NaN</td>\n",
       "      <td>NaN</td>\n",
       "      <td>NaN</td>\n",
       "      <td>NaN</td>\n",
       "      <td>NaN</td>\n",
       "      <td>NaN</td>\n",
       "      <td>NaN</td>\n",
       "      <td>NaN</td>\n",
       "      <td>NaN</td>\n",
       "    </tr>\n",
       "    <tr>\n",
       "      <th>1</th>\n",
       "      <td>A106E1N0ZQ4D9W</td>\n",
       "      <td>NaN</td>\n",
       "      <td>NaN</td>\n",
       "      <td>NaN</td>\n",
       "      <td>NaN</td>\n",
       "      <td>NaN</td>\n",
       "      <td>NaN</td>\n",
       "      <td>NaN</td>\n",
       "      <td>NaN</td>\n",
       "      <td>2.0</td>\n",
       "      <td>...</td>\n",
       "      <td>NaN</td>\n",
       "      <td>NaN</td>\n",
       "      <td>NaN</td>\n",
       "      <td>NaN</td>\n",
       "      <td>NaN</td>\n",
       "      <td>NaN</td>\n",
       "      <td>NaN</td>\n",
       "      <td>NaN</td>\n",
       "      <td>NaN</td>\n",
       "      <td>NaN</td>\n",
       "    </tr>\n",
       "    <tr>\n",
       "      <th>2</th>\n",
       "      <td>A10T0OW97SFBB</td>\n",
       "      <td>5.0</td>\n",
       "      <td>NaN</td>\n",
       "      <td>NaN</td>\n",
       "      <td>NaN</td>\n",
       "      <td>NaN</td>\n",
       "      <td>NaN</td>\n",
       "      <td>NaN</td>\n",
       "      <td>NaN</td>\n",
       "      <td>NaN</td>\n",
       "      <td>...</td>\n",
       "      <td>NaN</td>\n",
       "      <td>NaN</td>\n",
       "      <td>NaN</td>\n",
       "      <td>NaN</td>\n",
       "      <td>NaN</td>\n",
       "      <td>NaN</td>\n",
       "      <td>NaN</td>\n",
       "      <td>NaN</td>\n",
       "      <td>NaN</td>\n",
       "      <td>NaN</td>\n",
       "    </tr>\n",
       "    <tr>\n",
       "      <th>3</th>\n",
       "      <td>A10Y3OZWENAQ6W</td>\n",
       "      <td>NaN</td>\n",
       "      <td>NaN</td>\n",
       "      <td>NaN</td>\n",
       "      <td>NaN</td>\n",
       "      <td>NaN</td>\n",
       "      <td>NaN</td>\n",
       "      <td>NaN</td>\n",
       "      <td>NaN</td>\n",
       "      <td>NaN</td>\n",
       "      <td>...</td>\n",
       "      <td>NaN</td>\n",
       "      <td>NaN</td>\n",
       "      <td>NaN</td>\n",
       "      <td>NaN</td>\n",
       "      <td>NaN</td>\n",
       "      <td>NaN</td>\n",
       "      <td>NaN</td>\n",
       "      <td>NaN</td>\n",
       "      <td>NaN</td>\n",
       "      <td>NaN</td>\n",
       "    </tr>\n",
       "    <tr>\n",
       "      <th>4</th>\n",
       "      <td>A1129LM24YWSZV</td>\n",
       "      <td>NaN</td>\n",
       "      <td>NaN</td>\n",
       "      <td>NaN</td>\n",
       "      <td>NaN</td>\n",
       "      <td>NaN</td>\n",
       "      <td>NaN</td>\n",
       "      <td>NaN</td>\n",
       "      <td>NaN</td>\n",
       "      <td>NaN</td>\n",
       "      <td>...</td>\n",
       "      <td>NaN</td>\n",
       "      <td>NaN</td>\n",
       "      <td>NaN</td>\n",
       "      <td>NaN</td>\n",
       "      <td>NaN</td>\n",
       "      <td>NaN</td>\n",
       "      <td>NaN</td>\n",
       "      <td>NaN</td>\n",
       "      <td>NaN</td>\n",
       "      <td>NaN</td>\n",
       "    </tr>\n",
       "  </tbody>\n",
       "</table>\n",
       "<p>5 rows × 2136 columns</p>\n",
       "</div>"
      ],
      "text/plain": [
       "          User_id  \"Chosen\" Classics: Round the World in Eighty Days  \\\n",
       "0   A106016KSI0YQ                                                NaN   \n",
       "1  A106E1N0ZQ4D9W                                                NaN   \n",
       "2   A10T0OW97SFBB                                                5.0   \n",
       "3  A10Y3OZWENAQ6W                                                NaN   \n",
       "4  A1129LM24YWSZV                                                NaN   \n",
       "\n",
       "   \"D\" is for Deadbeat  \"Mildred Pierce  \"Ra Force Rising\": Brother G  \\\n",
       "0                  NaN              NaN                           NaN   \n",
       "1                  NaN              NaN                           NaN   \n",
       "2                  NaN              NaN                           NaN   \n",
       "3                  NaN              NaN                           NaN   \n",
       "4                  NaN              NaN                           NaN   \n",
       "\n",
       "   \"Thirty years in hell\"; or, \"From darkness to light  \\\n",
       "0                                                NaN     \n",
       "1                                                NaN     \n",
       "2                                                NaN     \n",
       "3                                                NaN     \n",
       "4                                                NaN     \n",
       "\n",
       "   'Tis The Season: The Choice\\First Fruits\\A New Year; A New Beginning  \\\n",
       "0                                                NaN                      \n",
       "1                                                NaN                      \n",
       "2                                                NaN                      \n",
       "3                                                NaN                      \n",
       "4                                                NaN                      \n",
       "\n",
       "   'Tis the Season to Be Murdered  ... Summer moonshine  \\\n",
       "0                             NaN                   NaN   \n",
       "1                             NaN                   NaN   \n",
       "2                             NaN                   NaN   \n",
       "3                             NaN                   NaN   \n",
       "4                             NaN                   NaN   \n",
       "\n",
       "   ...Arrow pointing nowhere  ...  \\\n",
       "0                        NaN  ...   \n",
       "1                        2.0  ...   \n",
       "2                        NaN  ...   \n",
       "3                        NaN  ...   \n",
       "4                        NaN  ...   \n",
       "\n",
       "   Zane's Gettin' Buck Wild: Sex Chronicles II  Zane's Skyscraper: A Novel  \\\n",
       "0                                          NaN                         NaN   \n",
       "1                                          NaN                         NaN   \n",
       "2                                          NaN                         NaN   \n",
       "3                                          NaN                         NaN   \n",
       "4                                          NaN                         NaN   \n",
       "\n",
       "   Zazie dans le Mtro  Zen Attitude  Zia  Zorba the Greek  green valley  \\\n",
       "0                 NaN           NaN  NaN              NaN           NaN   \n",
       "1                 NaN           NaN  NaN              NaN           NaN   \n",
       "2                 NaN           NaN  NaN              NaN           NaN   \n",
       "3                 NaN           NaN  NaN              NaN           NaN   \n",
       "4                 NaN           NaN  NaN              NaN           NaN   \n",
       "\n",
       "   never too much  our davie pepper  the Picture of Dorian Gray  \n",
       "0             NaN               NaN                         NaN  \n",
       "1             NaN               NaN                         NaN  \n",
       "2             NaN               NaN                         NaN  \n",
       "3             NaN               NaN                         NaN  \n",
       "4             NaN               NaN                         NaN  \n",
       "\n",
       "[5 rows x 2136 columns]"
      ]
     },
     "execution_count": 190,
     "metadata": {},
     "output_type": "execute_result"
    }
   ],
   "source": [
    "ratings_df = pd.read_csv('ratings_matrix.csv')\n",
    "ratings_df.head()"
   ]
  },
  {
   "cell_type": "code",
   "execution_count": 191,
   "id": "3300473d-9abb-43da-a3ed-c9aed45c7a60",
   "metadata": {},
   "outputs": [
    {
     "data": {
      "text/plain": [
       "(2135, 1066)"
      ]
     },
     "execution_count": 191,
     "metadata": {},
     "output_type": "execute_result"
    }
   ],
   "source": [
    "#replace missing ratings with Nan\n",
    "ratings_df.fillna(0, inplace=True)\n",
    "#save user and title information\n",
    "users = ratings_df['User_id']\n",
    "titles = ratings_df.columns[1:]\n",
    "#matrix to be passed to the autoencoder\n",
    "ratings_matrix = ratings_df.drop('User_id',axis=1).values\n",
    "#transpose to make item based matrix\n",
    "ratings_matrix = ratings_matrix.T\n",
    "ratings_matrix.shape"
   ]
  },
  {
   "cell_type": "code",
   "execution_count": 192,
   "id": "ef86c1b0-05d2-4537-9cbf-f634ef514a2a",
   "metadata": {},
   "outputs": [
    {
     "name": "stdout",
     "output_type": "stream",
     "text": [
      "(1921, 1066) (214, 1066)\n"
     ]
    }
   ],
   "source": [
    "#train test split\n",
    "train_matrix, test_matrix = train_test_split(ratings_matrix, test_size=0.1, random_state=1992)\n",
    "print(train_matrix.shape, test_matrix.shape)"
   ]
  },
  {
   "cell_type": "code",
   "execution_count": 193,
   "id": "9a0f38c1-1869-47e7-bb63-b94c8f6d7b49",
   "metadata": {},
   "outputs": [],
   "source": [
    "def subtract_biases(X):\n",
    "    X_centered = X.copy()\n",
    "    biases = []\n",
    "    for i in range(X.shape[0]):\n",
    "        row = X[i]\n",
    "        nonzero_mask = row != 0\n",
    "        #only do if non-zero entries in the row\n",
    "        if np.any(nonzero_mask): \n",
    "            bias = row[nonzero_mask].mean()\n",
    "            biases.append(bias)\n",
    "            X_centered[i, nonzero_mask] = row[nonzero_mask] - bias\n",
    "\n",
    "    return X_centered, biases\n"
   ]
  },
  {
   "cell_type": "code",
   "execution_count": 194,
   "id": "acacc1c6-5579-4cff-88a3-1ef86eea11ab",
   "metadata": {},
   "outputs": [],
   "source": [
    "train_matrix, train_biases = subtract_biases(train_matrix)\n",
    "\n",
    "test_matrix, test_biases = subtract_biases(test_matrix)"
   ]
  },
  {
   "cell_type": "code",
   "execution_count": 195,
   "id": "6f388d90-39cb-4a5e-9e84-ae12348fd052",
   "metadata": {},
   "outputs": [],
   "source": [
    "#masked mse loss function\n",
    "def masked_mse(y_true, y_pred):\n",
    "    mask = tf.cast(tf.not_equal(y_true, 0), tf.float32)\n",
    "    squared_error = tf.square(y_true - y_pred)\n",
    "    masked_se = mask * squared_error\n",
    "    #average over non-zero entries\n",
    "    return tf.reduce_sum(masked_se) / tf.reduce_sum(mask)"
   ]
  },
  {
   "cell_type": "markdown",
   "id": "f57748b6-26fb-46ec-8033-69b07c7bc801",
   "metadata": {},
   "source": [
    "### Autoencoder Architecture\n",
    "Used this paper for regularizer, dropout, and re-feeding ideas:\n",
    "<Link Text>https://dl.acm.org/doi/10.1145/2740908.2742726 <br>"
   ]
  },
  {
   "cell_type": "code",
   "execution_count": 196,
   "id": "d08b5f73-bef6-4b22-8275-fb18a1730db4",
   "metadata": {},
   "outputs": [],
   "source": [
    "original_dim = ratings_matrix.shape[1]\n",
    "encoding_dim = 256\n",
    "\n",
    "#input layer: user rating vector\n",
    "input_layer = layers.Input(shape=(original_dim,))\n",
    "\n",
    "#encoded layer\n",
    "encoded = layers.Dense(encoding_dim, activation='selu', kernel_regularizer=regularizers.l2(0.0001), \n",
    "                       activity_regularizer=regularizers.l1(0.0001))(input_layer)\n",
    "\n",
    "#decoder\n",
    "output_layer = layers.Dense(original_dim, activation='linear')(encoded) \n",
    "\n",
    "#model\n",
    "autoencoder = Model(inputs=input_layer, outputs=output_layer)\n",
    "\n",
    "#compile the model\n",
    "autoencoder.compile(optimizer='adam', loss= masked_mse)"
   ]
  },
  {
   "cell_type": "code",
   "execution_count": 197,
   "id": "2ae20026-084d-4bac-ae79-edb26ee2904e",
   "metadata": {},
   "outputs": [
    {
     "data": {
      "text/html": [
       "<pre style=\"white-space:pre;overflow-x:auto;line-height:normal;font-family:Menlo,'DejaVu Sans Mono',consolas,'Courier New',monospace\"><span style=\"font-weight: bold\">Model: \"functional_13\"</span>\n",
       "</pre>\n"
      ],
      "text/plain": [
       "\u001b[1mModel: \"functional_13\"\u001b[0m\n"
      ]
     },
     "metadata": {},
     "output_type": "display_data"
    },
    {
     "data": {
      "text/html": [
       "<pre style=\"white-space:pre;overflow-x:auto;line-height:normal;font-family:Menlo,'DejaVu Sans Mono',consolas,'Courier New',monospace\">┏━━━━━━━━━━━━━━━━━━━━━━━━━━━━━━━━━┳━━━━━━━━━━━━━━━━━━━━━━━━┳━━━━━━━━━━━━━━━┓\n",
       "┃<span style=\"font-weight: bold\"> Layer (type)                    </span>┃<span style=\"font-weight: bold\"> Output Shape           </span>┃<span style=\"font-weight: bold\">       Param # </span>┃\n",
       "┡━━━━━━━━━━━━━━━━━━━━━━━━━━━━━━━━━╇━━━━━━━━━━━━━━━━━━━━━━━━╇━━━━━━━━━━━━━━━┩\n",
       "│ input_layer_13 (<span style=\"color: #0087ff; text-decoration-color: #0087ff\">InputLayer</span>)     │ (<span style=\"color: #00d7ff; text-decoration-color: #00d7ff\">None</span>, <span style=\"color: #00af00; text-decoration-color: #00af00\">1066</span>)           │             <span style=\"color: #00af00; text-decoration-color: #00af00\">0</span> │\n",
       "├─────────────────────────────────┼────────────────────────┼───────────────┤\n",
       "│ dense_26 (<span style=\"color: #0087ff; text-decoration-color: #0087ff\">Dense</span>)                │ (<span style=\"color: #00d7ff; text-decoration-color: #00d7ff\">None</span>, <span style=\"color: #00af00; text-decoration-color: #00af00\">256</span>)            │       <span style=\"color: #00af00; text-decoration-color: #00af00\">273,152</span> │\n",
       "├─────────────────────────────────┼────────────────────────┼───────────────┤\n",
       "│ dense_27 (<span style=\"color: #0087ff; text-decoration-color: #0087ff\">Dense</span>)                │ (<span style=\"color: #00d7ff; text-decoration-color: #00d7ff\">None</span>, <span style=\"color: #00af00; text-decoration-color: #00af00\">1066</span>)           │       <span style=\"color: #00af00; text-decoration-color: #00af00\">273,962</span> │\n",
       "└─────────────────────────────────┴────────────────────────┴───────────────┘\n",
       "</pre>\n"
      ],
      "text/plain": [
       "┏━━━━━━━━━━━━━━━━━━━━━━━━━━━━━━━━━┳━━━━━━━━━━━━━━━━━━━━━━━━┳━━━━━━━━━━━━━━━┓\n",
       "┃\u001b[1m \u001b[0m\u001b[1mLayer (type)                   \u001b[0m\u001b[1m \u001b[0m┃\u001b[1m \u001b[0m\u001b[1mOutput Shape          \u001b[0m\u001b[1m \u001b[0m┃\u001b[1m \u001b[0m\u001b[1m      Param #\u001b[0m\u001b[1m \u001b[0m┃\n",
       "┡━━━━━━━━━━━━━━━━━━━━━━━━━━━━━━━━━╇━━━━━━━━━━━━━━━━━━━━━━━━╇━━━━━━━━━━━━━━━┩\n",
       "│ input_layer_13 (\u001b[38;5;33mInputLayer\u001b[0m)     │ (\u001b[38;5;45mNone\u001b[0m, \u001b[38;5;34m1066\u001b[0m)           │             \u001b[38;5;34m0\u001b[0m │\n",
       "├─────────────────────────────────┼────────────────────────┼───────────────┤\n",
       "│ dense_26 (\u001b[38;5;33mDense\u001b[0m)                │ (\u001b[38;5;45mNone\u001b[0m, \u001b[38;5;34m256\u001b[0m)            │       \u001b[38;5;34m273,152\u001b[0m │\n",
       "├─────────────────────────────────┼────────────────────────┼───────────────┤\n",
       "│ dense_27 (\u001b[38;5;33mDense\u001b[0m)                │ (\u001b[38;5;45mNone\u001b[0m, \u001b[38;5;34m1066\u001b[0m)           │       \u001b[38;5;34m273,962\u001b[0m │\n",
       "└─────────────────────────────────┴────────────────────────┴───────────────┘\n"
      ]
     },
     "metadata": {},
     "output_type": "display_data"
    },
    {
     "data": {
      "text/html": [
       "<pre style=\"white-space:pre;overflow-x:auto;line-height:normal;font-family:Menlo,'DejaVu Sans Mono',consolas,'Courier New',monospace\"><span style=\"font-weight: bold\"> Total params: </span><span style=\"color: #00af00; text-decoration-color: #00af00\">547,114</span> (2.09 MB)\n",
       "</pre>\n"
      ],
      "text/plain": [
       "\u001b[1m Total params: \u001b[0m\u001b[38;5;34m547,114\u001b[0m (2.09 MB)\n"
      ]
     },
     "metadata": {},
     "output_type": "display_data"
    },
    {
     "data": {
      "text/html": [
       "<pre style=\"white-space:pre;overflow-x:auto;line-height:normal;font-family:Menlo,'DejaVu Sans Mono',consolas,'Courier New',monospace\"><span style=\"font-weight: bold\"> Trainable params: </span><span style=\"color: #00af00; text-decoration-color: #00af00\">547,114</span> (2.09 MB)\n",
       "</pre>\n"
      ],
      "text/plain": [
       "\u001b[1m Trainable params: \u001b[0m\u001b[38;5;34m547,114\u001b[0m (2.09 MB)\n"
      ]
     },
     "metadata": {},
     "output_type": "display_data"
    },
    {
     "data": {
      "text/html": [
       "<pre style=\"white-space:pre;overflow-x:auto;line-height:normal;font-family:Menlo,'DejaVu Sans Mono',consolas,'Courier New',monospace\"><span style=\"font-weight: bold\"> Non-trainable params: </span><span style=\"color: #00af00; text-decoration-color: #00af00\">0</span> (0.00 B)\n",
       "</pre>\n"
      ],
      "text/plain": [
       "\u001b[1m Non-trainable params: \u001b[0m\u001b[38;5;34m0\u001b[0m (0.00 B)\n"
      ]
     },
     "metadata": {},
     "output_type": "display_data"
    }
   ],
   "source": [
    "autoencoder.summary()"
   ]
  },
  {
   "cell_type": "code",
   "execution_count": 198,
   "id": "ef305db0-0c63-4f06-bcc7-a37c145c2791",
   "metadata": {
    "scrolled": true
   },
   "outputs": [
    {
     "name": "stdout",
     "output_type": "stream",
     "text": [
      "Epoch 1/500\n",
      "\u001b[1m12/12\u001b[0m \u001b[32m━━━━━━━━━━━━━━━━━━━━\u001b[0m\u001b[37m\u001b[0m \u001b[1m1s\u001b[0m 16ms/step - loss: 1.3685 - val_loss: 1.2318\n",
      "Epoch 2/500\n",
      "\u001b[1m12/12\u001b[0m \u001b[32m━━━━━━━━━━━━━━━━━━━━\u001b[0m\u001b[37m\u001b[0m \u001b[1m0s\u001b[0m 10ms/step - loss: 1.0875 - val_loss: 1.1039\n",
      "Epoch 3/500\n",
      "\u001b[1m12/12\u001b[0m \u001b[32m━━━━━━━━━━━━━━━━━━━━\u001b[0m\u001b[37m\u001b[0m \u001b[1m0s\u001b[0m 10ms/step - loss: 0.9197 - val_loss: 1.0095\n",
      "Epoch 4/500\n",
      "\u001b[1m12/12\u001b[0m \u001b[32m━━━━━━━━━━━━━━━━━━━━\u001b[0m\u001b[37m\u001b[0m \u001b[1m0s\u001b[0m 10ms/step - loss: 0.7877 - val_loss: 0.9388\n",
      "Epoch 5/500\n",
      "\u001b[1m12/12\u001b[0m \u001b[32m━━━━━━━━━━━━━━━━━━━━\u001b[0m\u001b[37m\u001b[0m \u001b[1m0s\u001b[0m 9ms/step - loss: 0.7093 - val_loss: 0.8838\n",
      "Epoch 6/500\n",
      "\u001b[1m12/12\u001b[0m \u001b[32m━━━━━━━━━━━━━━━━━━━━\u001b[0m\u001b[37m\u001b[0m \u001b[1m0s\u001b[0m 10ms/step - loss: 0.6460 - val_loss: 0.8400\n",
      "Epoch 7/500\n",
      "\u001b[1m12/12\u001b[0m \u001b[32m━━━━━━━━━━━━━━━━━━━━\u001b[0m\u001b[37m\u001b[0m \u001b[1m0s\u001b[0m 10ms/step - loss: 0.5915 - val_loss: 0.8048\n",
      "Epoch 8/500\n",
      "\u001b[1m12/12\u001b[0m \u001b[32m━━━━━━━━━━━━━━━━━━━━\u001b[0m\u001b[37m\u001b[0m \u001b[1m0s\u001b[0m 10ms/step - loss: 0.5556 - val_loss: 0.7751\n",
      "Epoch 9/500\n",
      "\u001b[1m12/12\u001b[0m \u001b[32m━━━━━━━━━━━━━━━━━━━━\u001b[0m\u001b[37m\u001b[0m \u001b[1m0s\u001b[0m 11ms/step - loss: 0.5233 - val_loss: 0.7496\n",
      "Epoch 10/500\n",
      "\u001b[1m12/12\u001b[0m \u001b[32m━━━━━━━━━━━━━━━━━━━━\u001b[0m\u001b[37m\u001b[0m \u001b[1m0s\u001b[0m 10ms/step - loss: 0.4892 - val_loss: 0.7271\n",
      "Epoch 11/500\n",
      "\u001b[1m12/12\u001b[0m \u001b[32m━━━━━━━━━━━━━━━━━━━━\u001b[0m\u001b[37m\u001b[0m \u001b[1m0s\u001b[0m 10ms/step - loss: 0.4708 - val_loss: 0.7074\n",
      "Epoch 12/500\n",
      "\u001b[1m12/12\u001b[0m \u001b[32m━━━━━━━━━━━━━━━━━━━━\u001b[0m\u001b[37m\u001b[0m \u001b[1m0s\u001b[0m 10ms/step - loss: 0.4401 - val_loss: 0.6896\n",
      "Epoch 13/500\n",
      "\u001b[1m12/12\u001b[0m \u001b[32m━━━━━━━━━━━━━━━━━━━━\u001b[0m\u001b[37m\u001b[0m \u001b[1m0s\u001b[0m 11ms/step - loss: 0.4252 - val_loss: 0.6732\n",
      "Epoch 14/500\n",
      "\u001b[1m12/12\u001b[0m \u001b[32m━━━━━━━━━━━━━━━━━━━━\u001b[0m\u001b[37m\u001b[0m \u001b[1m0s\u001b[0m 10ms/step - loss: 0.4059 - val_loss: 0.6588\n",
      "Epoch 15/500\n",
      "\u001b[1m12/12\u001b[0m \u001b[32m━━━━━━━━━━━━━━━━━━━━\u001b[0m\u001b[37m\u001b[0m \u001b[1m0s\u001b[0m 10ms/step - loss: 0.3967 - val_loss: 0.6451\n",
      "Epoch 16/500\n",
      "\u001b[1m12/12\u001b[0m \u001b[32m━━━━━━━━━━━━━━━━━━━━\u001b[0m\u001b[37m\u001b[0m \u001b[1m0s\u001b[0m 10ms/step - loss: 0.3763 - val_loss: 0.6328\n",
      "Epoch 17/500\n",
      "\u001b[1m12/12\u001b[0m \u001b[32m━━━━━━━━━━━━━━━━━━━━\u001b[0m\u001b[37m\u001b[0m \u001b[1m0s\u001b[0m 10ms/step - loss: 0.3656 - val_loss: 0.6217\n",
      "Epoch 18/500\n",
      "\u001b[1m12/12\u001b[0m \u001b[32m━━━━━━━━━━━━━━━━━━━━\u001b[0m\u001b[37m\u001b[0m \u001b[1m0s\u001b[0m 12ms/step - loss: 0.3545 - val_loss: 0.6116\n",
      "Epoch 19/500\n",
      "\u001b[1m12/12\u001b[0m \u001b[32m━━━━━━━━━━━━━━━━━━━━\u001b[0m\u001b[37m\u001b[0m \u001b[1m0s\u001b[0m 12ms/step - loss: 0.3415 - val_loss: 0.6014\n",
      "Epoch 20/500\n",
      "\u001b[1m12/12\u001b[0m \u001b[32m━━━━━━━━━━━━━━━━━━━━\u001b[0m\u001b[37m\u001b[0m \u001b[1m0s\u001b[0m 11ms/step - loss: 0.3306 - val_loss: 0.5931\n",
      "Epoch 21/500\n",
      "\u001b[1m12/12\u001b[0m \u001b[32m━━━━━━━━━━━━━━━━━━━━\u001b[0m\u001b[37m\u001b[0m \u001b[1m0s\u001b[0m 9ms/step - loss: 0.3229 - val_loss: 0.5843\n",
      "Epoch 22/500\n",
      "\u001b[1m12/12\u001b[0m \u001b[32m━━━━━━━━━━━━━━━━━━━━\u001b[0m\u001b[37m\u001b[0m \u001b[1m0s\u001b[0m 10ms/step - loss: 0.3242 - val_loss: 0.5781\n",
      "Epoch 23/500\n",
      "\u001b[1m12/12\u001b[0m \u001b[32m━━━━━━━━━━━━━━━━━━━━\u001b[0m\u001b[37m\u001b[0m \u001b[1m0s\u001b[0m 9ms/step - loss: 0.3262 - val_loss: 0.5699\n",
      "Epoch 24/500\n",
      "\u001b[1m12/12\u001b[0m \u001b[32m━━━━━━━━━━━━━━━━━━━━\u001b[0m\u001b[37m\u001b[0m \u001b[1m0s\u001b[0m 11ms/step - loss: 0.2976 - val_loss: 0.5627\n",
      "Epoch 25/500\n",
      "\u001b[1m12/12\u001b[0m \u001b[32m━━━━━━━━━━━━━━━━━━━━\u001b[0m\u001b[37m\u001b[0m \u001b[1m0s\u001b[0m 10ms/step - loss: 0.2900 - val_loss: 0.5569\n",
      "Epoch 26/500\n",
      "\u001b[1m12/12\u001b[0m \u001b[32m━━━━━━━━━━━━━━━━━━━━\u001b[0m\u001b[37m\u001b[0m \u001b[1m0s\u001b[0m 10ms/step - loss: 0.2876 - val_loss: 0.5503\n",
      "Epoch 27/500\n",
      "\u001b[1m12/12\u001b[0m \u001b[32m━━━━━━━━━━━━━━━━━━━━\u001b[0m\u001b[37m\u001b[0m \u001b[1m0s\u001b[0m 10ms/step - loss: 0.2799 - val_loss: 0.5448\n",
      "Epoch 28/500\n",
      "\u001b[1m12/12\u001b[0m \u001b[32m━━━━━━━━━━━━━━━━━━━━\u001b[0m\u001b[37m\u001b[0m \u001b[1m0s\u001b[0m 10ms/step - loss: 0.2765 - val_loss: 0.5397\n",
      "Epoch 29/500\n",
      "\u001b[1m12/12\u001b[0m \u001b[32m━━━━━━━━━━━━━━━━━━━━\u001b[0m\u001b[37m\u001b[0m \u001b[1m0s\u001b[0m 10ms/step - loss: 0.2689 - val_loss: 0.5347\n",
      "Epoch 30/500\n",
      "\u001b[1m12/12\u001b[0m \u001b[32m━━━━━━━━━━━━━━━━━━━━\u001b[0m\u001b[37m\u001b[0m \u001b[1m0s\u001b[0m 10ms/step - loss: 0.2636 - val_loss: 0.5291\n",
      "Epoch 31/500\n",
      "\u001b[1m12/12\u001b[0m \u001b[32m━━━━━━━━━━━━━━━━━━━━\u001b[0m\u001b[37m\u001b[0m \u001b[1m0s\u001b[0m 11ms/step - loss: 0.2562 - val_loss: 0.5259\n",
      "Epoch 32/500\n",
      "\u001b[1m12/12\u001b[0m \u001b[32m━━━━━━━━━━━━━━━━━━━━\u001b[0m\u001b[37m\u001b[0m \u001b[1m0s\u001b[0m 11ms/step - loss: 0.2543 - val_loss: 0.5208\n",
      "Epoch 33/500\n",
      "\u001b[1m12/12\u001b[0m \u001b[32m━━━━━━━━━━━━━━━━━━━━\u001b[0m\u001b[37m\u001b[0m \u001b[1m0s\u001b[0m 10ms/step - loss: 0.2539 - val_loss: 0.5166\n",
      "Epoch 34/500\n",
      "\u001b[1m12/12\u001b[0m \u001b[32m━━━━━━━━━━━━━━━━━━━━\u001b[0m\u001b[37m\u001b[0m \u001b[1m0s\u001b[0m 11ms/step - loss: 0.2449 - val_loss: 0.5130\n",
      "Epoch 35/500\n",
      "\u001b[1m12/12\u001b[0m \u001b[32m━━━━━━━━━━━━━━━━━━━━\u001b[0m\u001b[37m\u001b[0m \u001b[1m0s\u001b[0m 10ms/step - loss: 0.2468 - val_loss: 0.5105\n",
      "Epoch 36/500\n",
      "\u001b[1m12/12\u001b[0m \u001b[32m━━━━━━━━━━━━━━━━━━━━\u001b[0m\u001b[37m\u001b[0m \u001b[1m0s\u001b[0m 10ms/step - loss: 0.2449 - val_loss: 0.5080\n",
      "Epoch 37/500\n",
      "\u001b[1m12/12\u001b[0m \u001b[32m━━━━━━━━━━━━━━━━━━━━\u001b[0m\u001b[37m\u001b[0m \u001b[1m0s\u001b[0m 14ms/step - loss: 0.2421 - val_loss: 0.5051\n",
      "Epoch 38/500\n",
      "\u001b[1m12/12\u001b[0m \u001b[32m━━━━━━━━━━━━━━━━━━━━\u001b[0m\u001b[37m\u001b[0m \u001b[1m0s\u001b[0m 13ms/step - loss: 0.2413 - val_loss: 0.5000\n",
      "Epoch 39/500\n",
      "\u001b[1m12/12\u001b[0m \u001b[32m━━━━━━━━━━━━━━━━━━━━\u001b[0m\u001b[37m\u001b[0m \u001b[1m0s\u001b[0m 11ms/step - loss: 0.2417 - val_loss: 0.4963\n",
      "Epoch 40/500\n",
      "\u001b[1m12/12\u001b[0m \u001b[32m━━━━━━━━━━━━━━━━━━━━\u001b[0m\u001b[37m\u001b[0m \u001b[1m0s\u001b[0m 10ms/step - loss: 0.2312 - val_loss: 0.4939\n",
      "Epoch 41/500\n",
      "\u001b[1m12/12\u001b[0m \u001b[32m━━━━━━━━━━━━━━━━━━━━\u001b[0m\u001b[37m\u001b[0m \u001b[1m0s\u001b[0m 11ms/step - loss: 0.2263 - val_loss: 0.4907\n",
      "Epoch 42/500\n",
      "\u001b[1m12/12\u001b[0m \u001b[32m━━━━━━━━━━━━━━━━━━━━\u001b[0m\u001b[37m\u001b[0m \u001b[1m0s\u001b[0m 10ms/step - loss: 0.2270 - val_loss: 0.4875\n",
      "Epoch 43/500\n",
      "\u001b[1m12/12\u001b[0m \u001b[32m━━━━━━━━━━━━━━━━━━━━\u001b[0m\u001b[37m\u001b[0m \u001b[1m0s\u001b[0m 10ms/step - loss: 0.2240 - val_loss: 0.4874\n",
      "Epoch 44/500\n",
      "\u001b[1m12/12\u001b[0m \u001b[32m━━━━━━━━━━━━━━━━━━━━\u001b[0m\u001b[37m\u001b[0m \u001b[1m0s\u001b[0m 10ms/step - loss: 0.2454 - val_loss: 0.4823\n",
      "Epoch 45/500\n",
      "\u001b[1m12/12\u001b[0m \u001b[32m━━━━━━━━━━━━━━━━━━━━\u001b[0m\u001b[37m\u001b[0m \u001b[1m0s\u001b[0m 10ms/step - loss: 0.2171 - val_loss: 0.4811\n",
      "Epoch 46/500\n",
      "\u001b[1m12/12\u001b[0m \u001b[32m━━━━━━━━━━━━━━━━━━━━\u001b[0m\u001b[37m\u001b[0m \u001b[1m0s\u001b[0m 10ms/step - loss: 0.2122 - val_loss: 0.4795\n",
      "Epoch 47/500\n",
      "\u001b[1m12/12\u001b[0m \u001b[32m━━━━━━━━━━━━━━━━━━━━\u001b[0m\u001b[37m\u001b[0m \u001b[1m0s\u001b[0m 10ms/step - loss: 0.2063 - val_loss: 0.4759\n",
      "Epoch 48/500\n",
      "\u001b[1m12/12\u001b[0m \u001b[32m━━━━━━━━━━━━━━━━━━━━\u001b[0m\u001b[37m\u001b[0m \u001b[1m0s\u001b[0m 10ms/step - loss: 0.2031 - val_loss: 0.4735\n",
      "Epoch 49/500\n",
      "\u001b[1m12/12\u001b[0m \u001b[32m━━━━━━━━━━━━━━━━━━━━\u001b[0m\u001b[37m\u001b[0m \u001b[1m0s\u001b[0m 10ms/step - loss: 0.2029 - val_loss: 0.4713\n",
      "Epoch 50/500\n",
      "\u001b[1m12/12\u001b[0m \u001b[32m━━━━━━━━━━━━━━━━━━━━\u001b[0m\u001b[37m\u001b[0m \u001b[1m0s\u001b[0m 10ms/step - loss: 0.2025 - val_loss: 0.4695\n",
      "Epoch 51/500\n",
      "\u001b[1m12/12\u001b[0m \u001b[32m━━━━━━━━━━━━━━━━━━━━\u001b[0m\u001b[37m\u001b[0m \u001b[1m0s\u001b[0m 9ms/step - loss: 0.2024 - val_loss: 0.4679\n",
      "Epoch 52/500\n",
      "\u001b[1m12/12\u001b[0m \u001b[32m━━━━━━━━━━━━━━━━━━━━\u001b[0m\u001b[37m\u001b[0m \u001b[1m0s\u001b[0m 10ms/step - loss: 0.1989 - val_loss: 0.4651\n",
      "Epoch 53/500\n",
      "\u001b[1m12/12\u001b[0m \u001b[32m━━━━━━━━━━━━━━━━━━━━\u001b[0m\u001b[37m\u001b[0m \u001b[1m0s\u001b[0m 10ms/step - loss: 0.1967 - val_loss: 0.4637\n",
      "Epoch 54/500\n",
      "\u001b[1m12/12\u001b[0m \u001b[32m━━━━━━━━━━━━━━━━━━━━\u001b[0m\u001b[37m\u001b[0m \u001b[1m0s\u001b[0m 10ms/step - loss: 0.2042 - val_loss: 0.4619\n",
      "Epoch 55/500\n",
      "\u001b[1m12/12\u001b[0m \u001b[32m━━━━━━━━━━━━━━━━━━━━\u001b[0m\u001b[37m\u001b[0m \u001b[1m0s\u001b[0m 11ms/step - loss: 0.1976 - val_loss: 0.4598\n",
      "Epoch 56/500\n",
      "\u001b[1m12/12\u001b[0m \u001b[32m━━━━━━━━━━━━━━━━━━━━\u001b[0m\u001b[37m\u001b[0m \u001b[1m0s\u001b[0m 11ms/step - loss: 0.1949 - val_loss: 0.4584\n",
      "Epoch 57/500\n",
      "\u001b[1m12/12\u001b[0m \u001b[32m━━━━━━━━━━━━━━━━━━━━\u001b[0m\u001b[37m\u001b[0m \u001b[1m0s\u001b[0m 9ms/step - loss: 0.1918 - val_loss: 0.4567\n",
      "Epoch 58/500\n",
      "\u001b[1m12/12\u001b[0m \u001b[32m━━━━━━━━━━━━━━━━━━━━\u001b[0m\u001b[37m\u001b[0m \u001b[1m0s\u001b[0m 9ms/step - loss: 0.1899 - val_loss: 0.4551\n",
      "Epoch 59/500\n",
      "\u001b[1m12/12\u001b[0m \u001b[32m━━━━━━━━━━━━━━━━━━━━\u001b[0m\u001b[37m\u001b[0m \u001b[1m0s\u001b[0m 10ms/step - loss: 0.1860 - val_loss: 0.4562\n",
      "Epoch 60/500\n",
      "\u001b[1m12/12\u001b[0m \u001b[32m━━━━━━━━━━━━━━━━━━━━\u001b[0m\u001b[37m\u001b[0m \u001b[1m0s\u001b[0m 9ms/step - loss: 0.1879 - val_loss: 0.4527\n",
      "Epoch 61/500\n",
      "\u001b[1m12/12\u001b[0m \u001b[32m━━━━━━━━━━━━━━━━━━━━\u001b[0m\u001b[37m\u001b[0m \u001b[1m0s\u001b[0m 10ms/step - loss: 0.1845 - val_loss: 0.4512\n",
      "Epoch 62/500\n",
      "\u001b[1m12/12\u001b[0m \u001b[32m━━━━━━━━━━━━━━━━━━━━\u001b[0m\u001b[37m\u001b[0m \u001b[1m0s\u001b[0m 10ms/step - loss: 0.1849 - val_loss: 0.4496\n",
      "Epoch 63/500\n",
      "\u001b[1m12/12\u001b[0m \u001b[32m━━━━━━━━━━━━━━━━━━━━\u001b[0m\u001b[37m\u001b[0m \u001b[1m0s\u001b[0m 10ms/step - loss: 0.1780 - val_loss: 0.4467\n",
      "Epoch 64/500\n",
      "\u001b[1m12/12\u001b[0m \u001b[32m━━━━━━━━━━━━━━━━━━━━\u001b[0m\u001b[37m\u001b[0m \u001b[1m0s\u001b[0m 10ms/step - loss: 0.1778 - val_loss: 0.4463\n",
      "Epoch 65/500\n",
      "\u001b[1m12/12\u001b[0m \u001b[32m━━━━━━━━━━━━━━━━━━━━\u001b[0m\u001b[37m\u001b[0m \u001b[1m0s\u001b[0m 10ms/step - loss: 0.1751 - val_loss: 0.4448\n",
      "Epoch 66/500\n",
      "\u001b[1m12/12\u001b[0m \u001b[32m━━━━━━━━━━━━━━━━━━━━\u001b[0m\u001b[37m\u001b[0m \u001b[1m0s\u001b[0m 10ms/step - loss: 0.1773 - val_loss: 0.4445\n",
      "Epoch 67/500\n",
      "\u001b[1m12/12\u001b[0m \u001b[32m━━━━━━━━━━━━━━━━━━━━\u001b[0m\u001b[37m\u001b[0m \u001b[1m0s\u001b[0m 10ms/step - loss: 0.1710 - val_loss: 0.4424\n",
      "Epoch 68/500\n",
      "\u001b[1m12/12\u001b[0m \u001b[32m━━━━━━━━━━━━━━━━━━━━\u001b[0m\u001b[37m\u001b[0m \u001b[1m0s\u001b[0m 10ms/step - loss: 0.1717 - val_loss: 0.4416\n",
      "Epoch 69/500\n",
      "\u001b[1m12/12\u001b[0m \u001b[32m━━━━━━━━━━━━━━━━━━━━\u001b[0m\u001b[37m\u001b[0m \u001b[1m0s\u001b[0m 10ms/step - loss: 0.1709 - val_loss: 0.4437\n",
      "Epoch 70/500\n",
      "\u001b[1m12/12\u001b[0m \u001b[32m━━━━━━━━━━━━━━━━━━━━\u001b[0m\u001b[37m\u001b[0m \u001b[1m0s\u001b[0m 10ms/step - loss: 0.1764 - val_loss: 0.4392\n",
      "Epoch 71/500\n",
      "\u001b[1m12/12\u001b[0m \u001b[32m━━━━━━━━━━━━━━━━━━━━\u001b[0m\u001b[37m\u001b[0m \u001b[1m0s\u001b[0m 10ms/step - loss: 0.1740 - val_loss: 0.4400\n",
      "Epoch 72/500\n",
      "\u001b[1m12/12\u001b[0m \u001b[32m━━━━━━━━━━━━━━━━━━━━\u001b[0m\u001b[37m\u001b[0m \u001b[1m0s\u001b[0m 9ms/step - loss: 0.1701 - val_loss: 0.4376\n",
      "Epoch 73/500\n",
      "\u001b[1m12/12\u001b[0m \u001b[32m━━━━━━━━━━━━━━━━━━━━\u001b[0m\u001b[37m\u001b[0m \u001b[1m0s\u001b[0m 10ms/step - loss: 0.1679 - val_loss: 0.4367\n",
      "Epoch 74/500\n",
      "\u001b[1m12/12\u001b[0m \u001b[32m━━━━━━━━━━━━━━━━━━━━\u001b[0m\u001b[37m\u001b[0m \u001b[1m0s\u001b[0m 10ms/step - loss: 0.1645 - val_loss: 0.4345\n",
      "Epoch 75/500\n",
      "\u001b[1m12/12\u001b[0m \u001b[32m━━━━━━━━━━━━━━━━━━━━\u001b[0m\u001b[37m\u001b[0m \u001b[1m0s\u001b[0m 9ms/step - loss: 0.1611 - val_loss: 0.4334\n",
      "Epoch 76/500\n",
      "\u001b[1m12/12\u001b[0m \u001b[32m━━━━━━━━━━━━━━━━━━━━\u001b[0m\u001b[37m\u001b[0m \u001b[1m0s\u001b[0m 9ms/step - loss: 0.1630 - val_loss: 0.4328\n",
      "Epoch 77/500\n",
      "\u001b[1m12/12\u001b[0m \u001b[32m━━━━━━━━━━━━━━━━━━━━\u001b[0m\u001b[37m\u001b[0m \u001b[1m0s\u001b[0m 10ms/step - loss: 0.1663 - val_loss: 0.4339\n",
      "Epoch 78/500\n",
      "\u001b[1m12/12\u001b[0m \u001b[32m━━━━━━━━━━━━━━━━━━━━\u001b[0m\u001b[37m\u001b[0m \u001b[1m0s\u001b[0m 9ms/step - loss: 0.1652 - val_loss: 0.4308\n",
      "Epoch 79/500\n",
      "\u001b[1m12/12\u001b[0m \u001b[32m━━━━━━━━━━━━━━━━━━━━\u001b[0m\u001b[37m\u001b[0m \u001b[1m0s\u001b[0m 17ms/step - loss: 0.1666 - val_loss: 0.4324\n",
      "Epoch 80/500\n",
      "\u001b[1m12/12\u001b[0m \u001b[32m━━━━━━━━━━━━━━━━━━━━\u001b[0m\u001b[37m\u001b[0m \u001b[1m0s\u001b[0m 12ms/step - loss: 0.1598 - val_loss: 0.4297\n",
      "Epoch 81/500\n",
      "\u001b[1m12/12\u001b[0m \u001b[32m━━━━━━━━━━━━━━━━━━━━\u001b[0m\u001b[37m\u001b[0m \u001b[1m0s\u001b[0m 11ms/step - loss: 0.1596 - val_loss: 0.4288\n",
      "Epoch 82/500\n",
      "\u001b[1m12/12\u001b[0m \u001b[32m━━━━━━━━━━━━━━━━━━━━\u001b[0m\u001b[37m\u001b[0m \u001b[1m0s\u001b[0m 10ms/step - loss: 0.1607 - val_loss: 0.4283\n",
      "Epoch 83/500\n",
      "\u001b[1m12/12\u001b[0m \u001b[32m━━━━━━━━━━━━━━━━━━━━\u001b[0m\u001b[37m\u001b[0m \u001b[1m0s\u001b[0m 10ms/step - loss: 0.1652 - val_loss: 0.4275\n",
      "Epoch 84/500\n",
      "\u001b[1m12/12\u001b[0m \u001b[32m━━━━━━━━━━━━━━━━━━━━\u001b[0m\u001b[37m\u001b[0m \u001b[1m0s\u001b[0m 10ms/step - loss: 0.1577 - val_loss: 0.4259\n",
      "Epoch 85/500\n",
      "\u001b[1m12/12\u001b[0m \u001b[32m━━━━━━━━━━━━━━━━━━━━\u001b[0m\u001b[37m\u001b[0m \u001b[1m0s\u001b[0m 10ms/step - loss: 0.1573 - val_loss: 0.4273\n",
      "Epoch 86/500\n",
      "\u001b[1m12/12\u001b[0m \u001b[32m━━━━━━━━━━━━━━━━━━━━\u001b[0m\u001b[37m\u001b[0m \u001b[1m0s\u001b[0m 10ms/step - loss: 0.1597 - val_loss: 0.4254\n",
      "Epoch 87/500\n",
      "\u001b[1m12/12\u001b[0m \u001b[32m━━━━━━━━━━━━━━━━━━━━\u001b[0m\u001b[37m\u001b[0m \u001b[1m0s\u001b[0m 10ms/step - loss: 0.1567 - val_loss: 0.4230\n",
      "Epoch 88/500\n",
      "\u001b[1m12/12\u001b[0m \u001b[32m━━━━━━━━━━━━━━━━━━━━\u001b[0m\u001b[37m\u001b[0m \u001b[1m0s\u001b[0m 10ms/step - loss: 0.1545 - val_loss: 0.4244\n",
      "Epoch 89/500\n",
      "\u001b[1m12/12\u001b[0m \u001b[32m━━━━━━━━━━━━━━━━━━━━\u001b[0m\u001b[37m\u001b[0m \u001b[1m0s\u001b[0m 10ms/step - loss: 0.1501 - val_loss: 0.4213\n",
      "Epoch 90/500\n",
      "\u001b[1m12/12\u001b[0m \u001b[32m━━━━━━━━━━━━━━━━━━━━\u001b[0m\u001b[37m\u001b[0m \u001b[1m0s\u001b[0m 10ms/step - loss: 0.1488 - val_loss: 0.4217\n",
      "Epoch 91/500\n",
      "\u001b[1m12/12\u001b[0m \u001b[32m━━━━━━━━━━━━━━━━━━━━\u001b[0m\u001b[37m\u001b[0m \u001b[1m0s\u001b[0m 10ms/step - loss: 0.1533 - val_loss: 0.4220\n",
      "Epoch 92/500\n",
      "\u001b[1m12/12\u001b[0m \u001b[32m━━━━━━━━━━━━━━━━━━━━\u001b[0m\u001b[37m\u001b[0m \u001b[1m0s\u001b[0m 10ms/step - loss: 0.1579 - val_loss: 0.4220\n",
      "Epoch 93/500\n",
      "\u001b[1m12/12\u001b[0m \u001b[32m━━━━━━━━━━━━━━━━━━━━\u001b[0m\u001b[37m\u001b[0m \u001b[1m0s\u001b[0m 10ms/step - loss: 0.1524 - val_loss: 0.4203\n",
      "Epoch 94/500\n",
      "\u001b[1m12/12\u001b[0m \u001b[32m━━━━━━━━━━━━━━━━━━━━\u001b[0m\u001b[37m\u001b[0m \u001b[1m0s\u001b[0m 10ms/step - loss: 0.1528 - val_loss: 0.4187\n",
      "Epoch 95/500\n",
      "\u001b[1m12/12\u001b[0m \u001b[32m━━━━━━━━━━━━━━━━━━━━\u001b[0m\u001b[37m\u001b[0m \u001b[1m0s\u001b[0m 10ms/step - loss: 0.1457 - val_loss: 0.4169\n",
      "Epoch 96/500\n",
      "\u001b[1m12/12\u001b[0m \u001b[32m━━━━━━━━━━━━━━━━━━━━\u001b[0m\u001b[37m\u001b[0m \u001b[1m0s\u001b[0m 10ms/step - loss: 0.1499 - val_loss: 0.4166\n",
      "Epoch 97/500\n",
      "\u001b[1m12/12\u001b[0m \u001b[32m━━━━━━━━━━━━━━━━━━━━\u001b[0m\u001b[37m\u001b[0m \u001b[1m0s\u001b[0m 9ms/step - loss: 0.1552 - val_loss: 0.4172\n",
      "Epoch 98/500\n",
      "\u001b[1m12/12\u001b[0m \u001b[32m━━━━━━━━━━━━━━━━━━━━\u001b[0m\u001b[37m\u001b[0m \u001b[1m0s\u001b[0m 9ms/step - loss: 0.1500 - val_loss: 0.4156\n",
      "Epoch 99/500\n",
      "\u001b[1m12/12\u001b[0m \u001b[32m━━━━━━━━━━━━━━━━━━━━\u001b[0m\u001b[37m\u001b[0m \u001b[1m0s\u001b[0m 10ms/step - loss: 0.1550 - val_loss: 0.4177\n",
      "Epoch 100/500\n",
      "\u001b[1m12/12\u001b[0m \u001b[32m━━━━━━━━━━━━━━━━━━━━\u001b[0m\u001b[37m\u001b[0m \u001b[1m0s\u001b[0m 10ms/step - loss: 0.1503 - val_loss: 0.4158\n",
      "Epoch 101/500\n",
      "\u001b[1m12/12\u001b[0m \u001b[32m━━━━━━━━━━━━━━━━━━━━\u001b[0m\u001b[37m\u001b[0m \u001b[1m0s\u001b[0m 10ms/step - loss: 0.1455 - val_loss: 0.4144\n",
      "Epoch 102/500\n",
      "\u001b[1m12/12\u001b[0m \u001b[32m━━━━━━━━━━━━━━━━━━━━\u001b[0m\u001b[37m\u001b[0m \u001b[1m0s\u001b[0m 10ms/step - loss: 0.1461 - val_loss: 0.4144\n",
      "Epoch 103/500\n",
      "\u001b[1m12/12\u001b[0m \u001b[32m━━━━━━━━━━━━━━━━━━━━\u001b[0m\u001b[37m\u001b[0m \u001b[1m0s\u001b[0m 10ms/step - loss: 0.1513 - val_loss: 0.4133\n",
      "Epoch 104/500\n",
      "\u001b[1m12/12\u001b[0m \u001b[32m━━━━━━━━━━━━━━━━━━━━\u001b[0m\u001b[37m\u001b[0m \u001b[1m0s\u001b[0m 10ms/step - loss: 0.1461 - val_loss: 0.4135\n",
      "Epoch 105/500\n",
      "\u001b[1m12/12\u001b[0m \u001b[32m━━━━━━━━━━━━━━━━━━━━\u001b[0m\u001b[37m\u001b[0m \u001b[1m0s\u001b[0m 10ms/step - loss: 0.1422 - val_loss: 0.4129\n",
      "Epoch 106/500\n",
      "\u001b[1m12/12\u001b[0m \u001b[32m━━━━━━━━━━━━━━━━━━━━\u001b[0m\u001b[37m\u001b[0m \u001b[1m0s\u001b[0m 10ms/step - loss: 0.1444 - val_loss: 0.4149\n",
      "Epoch 107/500\n",
      "\u001b[1m12/12\u001b[0m \u001b[32m━━━━━━━━━━━━━━━━━━━━\u001b[0m\u001b[37m\u001b[0m \u001b[1m0s\u001b[0m 10ms/step - loss: 0.1419 - val_loss: 0.4166\n",
      "Epoch 108/500\n",
      "\u001b[1m12/12\u001b[0m \u001b[32m━━━━━━━━━━━━━━━━━━━━\u001b[0m\u001b[37m\u001b[0m \u001b[1m0s\u001b[0m 10ms/step - loss: 0.1399 - val_loss: 0.4133\n",
      "Epoch 109/500\n",
      "\u001b[1m12/12\u001b[0m \u001b[32m━━━━━━━━━━━━━━━━━━━━\u001b[0m\u001b[37m\u001b[0m \u001b[1m0s\u001b[0m 9ms/step - loss: 0.1437 - val_loss: 0.4131\n",
      "Epoch 110/500\n",
      "\u001b[1m12/12\u001b[0m \u001b[32m━━━━━━━━━━━━━━━━━━━━\u001b[0m\u001b[37m\u001b[0m \u001b[1m0s\u001b[0m 17ms/step - loss: 0.1412 - val_loss: 0.4141\n"
     ]
    }
   ],
   "source": [
    "#train the model\n",
    "early_stopping = EarlyStopping(monitor='val_loss', patience=5, restore_best_weights=True)\n",
    "\n",
    "history = autoencoder.fit(train_matrix, train_matrix, epochs=500, batch_size=128, shuffle=True,\n",
    "                          validation_split = 0.2, callbacks = [early_stopping])"
   ]
  },
  {
   "cell_type": "markdown",
   "id": "b7592363-f475-457b-8433-8d872983f2d1",
   "metadata": {},
   "source": [
    "### Plot the training/validation loss curves"
   ]
  },
  {
   "cell_type": "code",
   "execution_count": 200,
   "id": "ae643383-7d52-416a-87c6-2a93fd00de0a",
   "metadata": {},
   "outputs": [
    {
     "data": {
      "image/png": "[encoded data removed]",
      "text/plain": [
       "<Figure size 640x480 with 1 Axes>"
      ]
     },
     "metadata": {},
     "output_type": "display_data"
    }
   ],
   "source": [
    "plt.plot(history.history['loss'], label='Training Loss')\n",
    "plt.plot(history.history['val_loss'], label='Validation Loss')\n",
    "plt.title('Training and Validation Loss over Epochs')\n",
    "plt.xlabel('Epoch')\n",
    "plt.ylabel('Loss')\n",
    "plt.legend()\n",
    "plt.grid(True)\n",
    "plt.show()"
   ]
  },
  {
   "cell_type": "code",
   "execution_count": 214,
   "id": "ba51d1cf-27ad-4cec-b4cb-efaf58658b28",
   "metadata": {},
   "outputs": [],
   "source": [
    "autoencoder.save('final_model.keras')"
   ]
  },
  {
   "cell_type": "markdown",
   "id": "7bd0dd0d-ccc8-4455-b400-e89765ec6d08",
   "metadata": {},
   "source": [
    "#### Check the test loss\n",
    "better"
   ]
  },
  {
   "cell_type": "code",
   "execution_count": 226,
   "id": "59b1295c-692e-4cff-bf57-67327bc50e52",
   "metadata": {},
   "outputs": [
    {
     "name": "stdout",
     "output_type": "stream",
     "text": [
      "\u001b[1m7/7\u001b[0m \u001b[32m━━━━━━━━━━━━━━━━━━━━\u001b[0m\u001b[37m\u001b[0m \u001b[1m0s\u001b[0m 3ms/step \n",
      "Test Loss: 0.2453\n",
      "+/- 0.4953 from true rating\n"
     ]
    }
   ],
   "source": [
    "#loss without regularization penalty\n",
    "test_reconstruction = autoencoder.predict(test_matrix)\n",
    "pred_test_tensor = tf.convert_to_tensor(test_reconstruction, dtype=tf.float32)\n",
    "\n",
    "true_test_tensor = tf.convert_to_tensor(test_matrix, dtype=tf.float32)\n",
    "\n",
    "test_loss = masked_mse(true_test_tensor,pred_test_tensor)\n",
    "\n",
    "print(f'Test Loss: {test_loss.numpy():.4f}')\n",
    "print(f'+/- {np.sqrt(test_loss):.4f} from true rating')"
   ]
  },
  {
   "cell_type": "code",
   "execution_count": 225,
   "id": "712fa6f1-ca17-4833-a9a6-542deea41120",
   "metadata": {},
   "outputs": [
    {
     "name": "stdout",
     "output_type": "stream",
     "text": [
      "\u001b[1m7/7\u001b[0m \u001b[32m━━━━━━━━━━━━━━━━━━━━\u001b[0m\u001b[37m\u001b[0m \u001b[1m0s\u001b[0m 4ms/step - loss: 0.0463 \n"
     ]
    },
    {
     "data": {
      "text/plain": [
       "0.044397126883268356"
      ]
     },
     "execution_count": 225,
     "metadata": {},
     "output_type": "execute_result"
    }
   ],
   "source": [
    "#loss with regularization penalty\n",
    "autoencoder.evaluate(true_test_tensor, pred_test_tensor)"
   ]
  },
  {
   "cell_type": "code",
   "execution_count": 177,
   "id": "95164e91-c775-45c7-9b40-117307e038b3",
   "metadata": {},
   "outputs": [
    {
     "name": "stdout",
     "output_type": "stream",
     "text": [
      "\u001b[1m61/61\u001b[0m \u001b[32m━━━━━━━━━━━━━━━━━━━━\u001b[0m\u001b[37m\u001b[0m \u001b[1m0s\u001b[0m 1ms/step\n"
     ]
    }
   ],
   "source": [
    "reconstruction_matrix = autoencoder.predict(train_matrix)\n",
    "#scale back\n",
    "reconstruction_matrix = (reconstruction_matrix + np.array([train_biases]).T)"
   ]
  },
  {
   "cell_type": "code",
   "execution_count": 178,
   "id": "22028cb7-40e8-4a5d-9737-539bcd131107",
   "metadata": {},
   "outputs": [
    {
     "name": "stdout",
     "output_type": "stream",
     "text": [
      "(1921, 1066)\n",
      "[[3.7285405  3.76866854 3.9319498  ... 3.81183433 3.64369712 4.00613359]\n",
      " [4.17593379 4.02516184 4.0580831  ... 4.7080755  4.17550641 4.75454853]\n",
      " [4.17661026 4.39075761 4.47201862 ... 4.649266   4.31737248 4.44333509]\n",
      " [4.47138833 4.69513826 4.93716778 ... 4.97944795 4.57432865 5.04434045]\n",
      " [4.3702164  4.68382706 4.72110318 ... 4.76286486 4.61421844 4.72583498]]\n",
      "range of reconstructed ratings: -0.3591189876435297 - 6.668385401874984\n"
     ]
    }
   ],
   "source": [
    "print(reconstruction_matrix.shape)\n",
    "print(reconstruction_matrix[0:5,:])\n",
    "print(f'range of reconstructed ratings: {reconstruction_matrix.min()} - {reconstruction_matrix.max()}')"
   ]
  },
  {
   "cell_type": "code",
   "execution_count": null,
   "id": "ae88746b-d6b0-4828-b0fd-402f13e34934",
   "metadata": {},
   "outputs": [],
   "source": []
  },
  {
   "cell_type": "markdown",
   "id": "817f97e1-5f8e-4633-8514-488d21984c83",
   "metadata": {},
   "source": [
    "### Make recommendations\n",
    "Certain items are recommended alot"
   ]
  },
  {
   "cell_type": "code",
   "execution_count": 231,
   "id": "69c67c7c-f67e-4c2d-bca5-d56b2b9a1dd0",
   "metadata": {},
   "outputs": [
    {
     "name": "stdout",
     "output_type": "stream",
     "text": [
      "[180]\n",
      "[126 712 475 105 750 991 611 718 522 296]\n",
      "Index(['Am I a Hindu? The Hinduism Primer',\n",
      "       'Hildegarde Withers: Uncollected Riddles',\n",
      "       'Dream Angus: The Celtic God of Dreams', 'Against His Will',\n",
      "       'I Bow to Thee, My Country', 'Mansfield Park', 'From Potter's Field',\n",
      "       'His Inconvenient Wife: An Inconvenient Marriage', 'Empress Bianca',\n",
      "       'Cactus Thorn'],\n",
      "      dtype='object')\n",
      "\n",
      "predicted ratings: [5.34160344 5.17884366 5.15346394 5.13164632 5.11014454 5.0884289\n",
      " 5.08376209 5.08158497 5.06153469 5.05659138]\n"
     ]
    }
   ],
   "source": [
    "\n",
    "#number of items to recommend\n",
    "top_k = 10\n",
    "#zero out previously rated items, so they are not recommended\n",
    "#rated_indices = np.argwhere(test_matrix)\n",
    "#rows, columns = rated_indices.T\n",
    "#reconstruction_matrix[rows,columns] = 0\n",
    "\n",
    "#transpose to get user based matrix\n",
    "reconstruction_matrix=reconstruction_matrix.T\n",
    "#get random user\n",
    "rand_num = np.random.randint(reconstruction_matrix.shape[0],size=1)\n",
    "user = reconstruction_matrix[rand_num,:]\n",
    "#make recommendations\n",
    "recs = np.argsort(-user)[0,0:top_k]\n",
    "print(rand_num)\n",
    "print(recs)\n",
    "print(titles[recs])\n",
    "print(f'\\npredicted ratings: {user[0,recs]}')"
   ]
  },
  {
   "cell_type": "markdown",
   "id": "1269c189-079c-4339-88cd-d6d6c3f69ca2",
   "metadata": {},
   "source": [
    "### Find items with highest predicted ratings"
   ]
  },
  {
   "cell_type": "code",
   "execution_count": 232,
   "id": "bc5bc588-3fda-4e10-ae2e-25614995bb2d",
   "metadata": {},
   "outputs": [
    {
     "name": "stdout",
     "output_type": "stream",
     "text": [
      "Recommended Items: [  35  731  538  170  663  830  897  241 1001  800]\n",
      "Predicted Ratings: [4.67295981 4.62962274 4.62716924 4.60565486 4.592475   4.58316303\n",
      " 4.57959062 4.5533269  4.54572773 4.54474506]\n",
      "Recommended Items: Index(['A Farewell to Arms', 'Hot Flash Holidays',\n",
      "       'Everyman's Library #217: Midnight's Children',\n",
      "       'Arsene Lupin Vs. Herlock Sholmes: A Classic Tale of the World's Greatest Thief and the World's Greatest Detective!',\n",
      "       'Gypsy at Almack's', 'John L. Byrne's Fear Book',\n",
      "       'Last Stand at Papago Wells', 'Bittersweet Rain',\n",
      "       'Master of Glen Crannach', 'Ironic'],\n",
      "      dtype='object')\n"
     ]
    }
   ],
   "source": [
    "top_k=10\n",
    "average_scores = reconstruction_matrix.mean(axis=0)\n",
    "recs = np.argsort(-average_scores)[0:top_k]\n",
    "print(f'Recommended Items: {recs}')\n",
    "print(f'Predicted Ratings: {average_scores[recs]}')\n",
    "\n",
    "book_recs = titles[recs]\n",
    "print(f'Recommended Items: {book_recs}')"
   ]
  },
  {
   "cell_type": "code",
   "execution_count": null,
   "id": "29cdcca0-5b31-4f89-baff-7f0b509aa9fc",
   "metadata": {},
   "outputs": [],
   "source": []
  }
 ],
 "metadata": {
  "kernelspec": {
   "display_name": "Python 3 (ipykernel)",
   "language": "python",
   "name": "python3"
  },
  "language_info": {
   "codemirror_mode": {
    "name": "ipython",
    "version": 3
   },
   "file_extension": ".py",
   "mimetype": "text/x-python",
   "name": "python",
   "nbconvert_exporter": "python",
   "pygments_lexer": "ipython3",
   "version": "3.12.3"
  }
 },
 "nbformat": 4,
 "nbformat_minor": 5
}
