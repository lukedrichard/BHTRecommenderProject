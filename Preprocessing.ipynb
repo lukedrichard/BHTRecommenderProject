{
 "cells": [
  {
   "cell_type": "code",
   "execution_count": 150,
   "id": "633f3dc0-58bb-486c-aeb0-53dced3a7f2b",
   "metadata": {},
   "outputs": [],
   "source": [
    "import pandas as pd\n",
    "import numpy as np\n",
    "import matplotlib as plt\n",
    "import random\n",
    "from rapidfuzz import process, fuzz\n",
    "import re"
   ]
  },
  {
   "cell_type": "markdown",
   "id": "bf671341-ff64-48a0-bfda-e4c1812abe48",
   "metadata": {},
   "source": [
    "## Preprocessing\n",
    "Books_rating.csv and books_data.csv can be downloaded from kaggle:  \n",
    "<Link Text>https://www.kaggle.com/datasets/mohamedbakhet/amazon-books-reviews <br><br>\n",
    "Books_rating.csv has all of the rating information. books_data.csv has metadata about the books. They have the common key 'Title'<br>\n",
    "In preprocessing, we join the two data frames to get the category and author for each title. We then filter for fiction books only.<br>\n",
    "Next, we get rid of all parentheses from the titles. These contain publisher/edition information. We then use the rapidfuzz package to find matching titles, so they can all be renamed the same thing. For instance there are many titles for 'Slaughterhouse Five' but with slight variations. We make sure that the author also matches to increase likelihood that the two titles with different spellings or punctuation are indeed the same book."
   ]
  },
  {
   "cell_type": "code",
   "execution_count": 151,
   "id": "8649dd58-de01-40ab-979f-939193c29520",
   "metadata": {},
   "outputs": [],
   "source": [
    "random.seed(42)\n",
    "np.random.seed(42)"
   ]
  },
  {
   "cell_type": "code",
   "execution_count": 152,
   "id": "aa9861cf-977e-48b2-b9da-75ea5ff8d81c",
   "metadata": {},
   "outputs": [],
   "source": [
    "ratings_df = pd.read_csv('Books_rating.csv')\n",
    "books_df = pd.read_csv('books_data.csv')"
   ]
  },
  {
   "cell_type": "code",
   "execution_count": 153,
   "id": "8a9932df-9715-4d80-ab5b-166ef8740e83",
   "metadata": {},
   "outputs": [
    {
     "name": "stdout",
     "output_type": "stream",
     "text": [
      "           Id                           Title  Price         User_id  \\\n",
      "0  1882931173  Its Only Art If Its Well Hung!    NaN   AVCGYZL8FQQTD   \n",
      "1  0826414346        Dr. Seuss: American Icon    NaN  A30TK6U7DNS82R   \n",
      "2  0826414346        Dr. Seuss: American Icon    NaN  A3UH4UZ4RSVO82   \n",
      "3  0826414346        Dr. Seuss: American Icon    NaN  A2MVUWT453QH61   \n",
      "4  0826414346        Dr. Seuss: American Icon    NaN  A22X4XUPKF66MR   \n",
      "\n",
      "                          profileName review/helpfulness  review/score  \\\n",
      "0               Jim of Oz \"jim-of-oz\"                7/7           4.0   \n",
      "1                       Kevin Killian              10/10           5.0   \n",
      "2                        John Granger              10/11           5.0   \n",
      "3  Roy E. Perry \"amateur philosopher\"                7/7           4.0   \n",
      "4     D. H. Richards \"ninthwavestore\"                3/3           4.0   \n",
      "\n",
      "   review/time                                   review/summary  \\\n",
      "0    940636800           Nice collection of Julie Strain images   \n",
      "1   1095724800                                Really Enjoyed It   \n",
      "2   1078790400  Essential for every personal and Public Library   \n",
      "3   1090713600  Phlip Nel gives silly Seuss a serious treatment   \n",
      "4   1107993600                           Good academic overview   \n",
      "\n",
      "                                         review/text  \n",
      "0  This is only for Julie Strain fans. It's a col...  \n",
      "1  I don't care much for Dr. Seuss but after read...  \n",
      "2  If people become the books they read and if \"t...  \n",
      "3  Theodore Seuss Geisel (1904-1991), aka &quot;D...  \n",
      "4  Philip Nel - Dr. Seuss: American IconThis is b...  \n",
      "                                               Title  \\\n",
      "0                     Its Only Art If Its Well Hung!   \n",
      "1                           Dr. Seuss: American Icon   \n",
      "2              Wonderful Worship in Smaller Churches   \n",
      "3                      Whispers of the Wicked Saints   \n",
      "4  Nation Dance: Religion, Identity and Cultural ...   \n",
      "\n",
      "                                         description              authors  \\\n",
      "0                                                NaN     ['Julie Strain']   \n",
      "1  Philip Nel takes a fascinating look into the k...       ['Philip Nel']   \n",
      "2  This resource includes twelve principles in un...     ['David R. Ray']   \n",
      "3  Julia Thomas finds her life spinning out of co...  ['Veronica Haddon']   \n",
      "4                                                NaN      ['Edward Long']   \n",
      "\n",
      "                                               image  \\\n",
      "0  http://books.google.com/books/content?id=DykPA...   \n",
      "1  http://books.google.com/books/content?id=IjvHQ...   \n",
      "2  http://books.google.com/books/content?id=2tsDA...   \n",
      "3  http://books.google.com/books/content?id=aRSIg...   \n",
      "4                                                NaN   \n",
      "\n",
      "                                         previewLink  publisher publishedDate  \\\n",
      "0  http://books.google.nl/books?id=DykPAAAACAAJ&d...        NaN          1996   \n",
      "1  http://books.google.nl/books?id=IjvHQsCn_pgC&p...  A&C Black    2005-01-01   \n",
      "2  http://books.google.nl/books?id=2tsDAAAACAAJ&d...        NaN          2000   \n",
      "3  http://books.google.nl/books?id=aRSIgJlq6JwC&d...  iUniverse       2005-02   \n",
      "4  http://books.google.nl/books?id=399SPgAACAAJ&d...        NaN    2003-03-01   \n",
      "\n",
      "                                            infoLink  \\\n",
      "0  http://books.google.nl/books?id=DykPAAAACAAJ&d...   \n",
      "1  http://books.google.nl/books?id=IjvHQsCn_pgC&d...   \n",
      "2  http://books.google.nl/books?id=2tsDAAAACAAJ&d...   \n",
      "3  http://books.google.nl/books?id=aRSIgJlq6JwC&d...   \n",
      "4  http://books.google.nl/books?id=399SPgAACAAJ&d...   \n",
      "\n",
      "                      categories  ratingsCount  \n",
      "0    ['Comics & Graphic Novels']           NaN  \n",
      "1  ['Biography & Autobiography']           NaN  \n",
      "2                   ['Religion']           NaN  \n",
      "3                    ['Fiction']           NaN  \n",
      "4                            NaN           NaN  \n"
     ]
    }
   ],
   "source": [
    "print(ratings_df.head())\n",
    "print(books_df.head())"
   ]
  },
  {
   "cell_type": "code",
   "execution_count": 154,
   "id": "e6e873bb-4ec1-4533-a115-79ea36bbf393",
   "metadata": {},
   "outputs": [
    {
     "name": "stdout",
     "output_type": "stream",
     "text": [
      "           Id                           Title  Price         User_id  \\\n",
      "0  1882931173  Its Only Art If Its Well Hung!    NaN   AVCGYZL8FQQTD   \n",
      "1  0826414346        Dr. Seuss: American Icon    NaN  A30TK6U7DNS82R   \n",
      "2  0826414346        Dr. Seuss: American Icon    NaN  A3UH4UZ4RSVO82   \n",
      "3  0826414346        Dr. Seuss: American Icon    NaN  A2MVUWT453QH61   \n",
      "4  0826414346        Dr. Seuss: American Icon    NaN  A22X4XUPKF66MR   \n",
      "\n",
      "                          profileName review/helpfulness  review/score  \\\n",
      "0               Jim of Oz \"jim-of-oz\"                7/7           4.0   \n",
      "1                       Kevin Killian              10/10           5.0   \n",
      "2                        John Granger              10/11           5.0   \n",
      "3  Roy E. Perry \"amateur philosopher\"                7/7           4.0   \n",
      "4     D. H. Richards \"ninthwavestore\"                3/3           4.0   \n",
      "\n",
      "   review/time                                   review/summary  \\\n",
      "0    940636800           Nice collection of Julie Strain images   \n",
      "1   1095724800                                Really Enjoyed It   \n",
      "2   1078790400  Essential for every personal and Public Library   \n",
      "3   1090713600  Phlip Nel gives silly Seuss a serious treatment   \n",
      "4   1107993600                           Good academic overview   \n",
      "\n",
      "                                         review/text  \\\n",
      "0  This is only for Julie Strain fans. It's a col...   \n",
      "1  I don't care much for Dr. Seuss but after read...   \n",
      "2  If people become the books they read and if \"t...   \n",
      "3  Theodore Seuss Geisel (1904-1991), aka &quot;D...   \n",
      "4  Philip Nel - Dr. Seuss: American IconThis is b...   \n",
      "\n",
      "                      categories           authors  \n",
      "0    ['Comics & Graphic Novels']  ['Julie Strain']  \n",
      "1  ['Biography & Autobiography']    ['Philip Nel']  \n",
      "2  ['Biography & Autobiography']    ['Philip Nel']  \n",
      "3  ['Biography & Autobiography']    ['Philip Nel']  \n",
      "4  ['Biography & Autobiography']    ['Philip Nel']  \n"
     ]
    }
   ],
   "source": [
    "#merge the categories and authors columns with the ratings_df\n",
    "df = pd.merge(ratings_df, books_df[['Title', 'categories', 'authors']], on='Title', how='left')\n",
    "print(df.head())"
   ]
  },
  {
   "cell_type": "code",
   "execution_count": 155,
   "id": "d8a74760-3e9c-496f-bf91-6271b552855a",
   "metadata": {},
   "outputs": [
    {
     "data": {
      "text/plain": [
       "Title           824439\n",
       "User_id         657511\n",
       "review/score    824439\n",
       "authors         824028\n",
       "categories      824439\n",
       "dtype: int64"
      ]
     },
     "execution_count": 155,
     "metadata": {},
     "output_type": "execute_result"
    }
   ],
   "source": [
    "#make smaller dataframe with only the columns we need\n",
    "df = df.loc[:,['Title','User_id','review/score','authors','categories']]\n",
    "df = df[df['categories'] == \"['Fiction']\"]\n",
    "df.count()"
   ]
  },
  {
   "cell_type": "code",
   "execution_count": 156,
   "id": "73abbf32-d3aa-4d2e-9ea7-5dd08a600500",
   "metadata": {},
   "outputs": [
    {
     "data": {
      "text/html": [
       "<div>\n",
       "<style scoped>\n",
       "    .dataframe tbody tr th:only-of-type {\n",
       "        vertical-align: middle;\n",
       "    }\n",
       "\n",
       "    .dataframe tbody tr th {\n",
       "        vertical-align: top;\n",
       "    }\n",
       "\n",
       "    .dataframe thead th {\n",
       "        text-align: right;\n",
       "    }\n",
       "</style>\n",
       "<table border=\"1\" class=\"dataframe\">\n",
       "  <thead>\n",
       "    <tr style=\"text-align: right;\">\n",
       "      <th></th>\n",
       "      <th>Title</th>\n",
       "      <th>User_id</th>\n",
       "      <th>review/score</th>\n",
       "      <th>authors</th>\n",
       "      <th>categories</th>\n",
       "    </tr>\n",
       "  </thead>\n",
       "  <tbody>\n",
       "    <tr>\n",
       "      <th>14</th>\n",
       "      <td>Whispers of the Wicked Saints</td>\n",
       "      <td>A3Q12RK71N74LB</td>\n",
       "      <td>1.0</td>\n",
       "      <td>['Veronica Haddon']</td>\n",
       "      <td>['Fiction']</td>\n",
       "    </tr>\n",
       "    <tr>\n",
       "      <th>15</th>\n",
       "      <td>Whispers of the Wicked Saints</td>\n",
       "      <td>A1E9M6APK30ZAU</td>\n",
       "      <td>4.0</td>\n",
       "      <td>['Veronica Haddon']</td>\n",
       "      <td>['Fiction']</td>\n",
       "    </tr>\n",
       "    <tr>\n",
       "      <th>16</th>\n",
       "      <td>Whispers of the Wicked Saints</td>\n",
       "      <td>AUR0VA5H0C66C</td>\n",
       "      <td>1.0</td>\n",
       "      <td>['Veronica Haddon']</td>\n",
       "      <td>['Fiction']</td>\n",
       "    </tr>\n",
       "    <tr>\n",
       "      <th>17</th>\n",
       "      <td>Whispers of the Wicked Saints</td>\n",
       "      <td>A1YLDZ3VHR6QPZ</td>\n",
       "      <td>5.0</td>\n",
       "      <td>['Veronica Haddon']</td>\n",
       "      <td>['Fiction']</td>\n",
       "    </tr>\n",
       "    <tr>\n",
       "      <th>18</th>\n",
       "      <td>Whispers of the Wicked Saints</td>\n",
       "      <td>ACO23CG8K8T77</td>\n",
       "      <td>5.0</td>\n",
       "      <td>['Veronica Haddon']</td>\n",
       "      <td>['Fiction']</td>\n",
       "    </tr>\n",
       "  </tbody>\n",
       "</table>\n",
       "</div>"
      ],
      "text/plain": [
       "                            Title         User_id  review/score  \\\n",
       "14  Whispers of the Wicked Saints  A3Q12RK71N74LB           1.0   \n",
       "15  Whispers of the Wicked Saints  A1E9M6APK30ZAU           4.0   \n",
       "16  Whispers of the Wicked Saints   AUR0VA5H0C66C           1.0   \n",
       "17  Whispers of the Wicked Saints  A1YLDZ3VHR6QPZ           5.0   \n",
       "18  Whispers of the Wicked Saints   ACO23CG8K8T77           5.0   \n",
       "\n",
       "                authors   categories  \n",
       "14  ['Veronica Haddon']  ['Fiction']  \n",
       "15  ['Veronica Haddon']  ['Fiction']  \n",
       "16  ['Veronica Haddon']  ['Fiction']  \n",
       "17  ['Veronica Haddon']  ['Fiction']  \n",
       "18  ['Veronica Haddon']  ['Fiction']  "
      ]
     },
     "execution_count": 156,
     "metadata": {},
     "output_type": "execute_result"
    }
   ],
   "source": [
    "#get rid of parentheses in book titles\n",
    "df['Title'] = df.loc[:,'Title'].str.replace(r\"\\s*\\(.*?\\)\", \"\", regex=True)\n",
    "df.head()"
   ]
  },
  {
   "cell_type": "code",
   "execution_count": 157,
   "id": "09e46e3b-09be-40cb-ba82-1bb17d317047",
   "metadata": {},
   "outputs": [
    {
     "name": "stdout",
     "output_type": "stream",
     "text": [
      "Title                0\n",
      "User_id         166928\n",
      "review/score         0\n",
      "authors            411\n",
      "categories           0\n",
      "dtype: int64\n"
     ]
    },
    {
     "data": {
      "text/plain": [
       "(657190, 5)"
      ]
     },
     "execution_count": 157,
     "metadata": {},
     "output_type": "execute_result"
    }
   ],
   "source": [
    "#remove na values\n",
    "print(df.isna().sum())\n",
    "df = df.dropna()\n",
    "df.shape"
   ]
  },
  {
   "cell_type": "code",
   "execution_count": 158,
   "id": "abb80591-1d00-4f27-af29-d932a0f863af",
   "metadata": {},
   "outputs": [],
   "source": [
    "#replace different titles for the same books with a single title.\n",
    "#!!! This code block was generated by chatGPT !!!\n",
    "\n",
    "unique_titles = df['Title'].unique()\n",
    "canonical_map = {}\n",
    "\n",
    "for title in unique_titles:\n",
    "    #checks if this title is already the offical accepted spelling/punctuation of the title\n",
    "    if title in canonical_map:\n",
    "        continue\n",
    "    #finds other titles similar to the current title\n",
    "    matches = process.extract(title, unique_titles, scorer=fuzz.token_sort_ratio, score_cutoff=0.85)\n",
    "    for match, score, _ in matches:\n",
    "        #if the similarity is high enough, maps the matching title to the accepted official title\n",
    "        canonical_map[match] = title\n",
    "\n",
    "# Step 3: Replace titles using the mapping\n",
    "df['Title'] = df['Title'].map(canonical_map)"
   ]
  },
  {
   "cell_type": "code",
   "execution_count": 159,
   "id": "724952c8-9567-40a0-9ee1-6f00cb1fd123",
   "metadata": {},
   "outputs": [
    {
     "data": {
      "text/plain": [
       "(491821, 5)"
      ]
     },
     "execution_count": 159,
     "metadata": {},
     "output_type": "execute_result"
    }
   ],
   "source": [
    "#remove duplicate ratings\n",
    "df.drop_duplicates(subset=['User_id','Title'], keep='first', inplace=True)\n",
    "df.shape"
   ]
  },
  {
   "cell_type": "code",
   "execution_count": 160,
   "id": "921f8af4-c890-4954-abb0-a2b4e1a23a00",
   "metadata": {},
   "outputs": [
    {
     "name": "stdout",
     "output_type": "stream",
     "text": [
      "8454\n",
      "268646\n"
     ]
    }
   ],
   "source": [
    "#see number of unique uesers and titles. We need make these a more manageable size\n",
    "print(df['Title'].unique().size)\n",
    "print(df['User_id'].unique().size)"
   ]
  },
  {
   "cell_type": "markdown",
   "id": "85b1706c-3e25-4a40-aa5d-1a570cf2e720",
   "metadata": {},
   "source": [
    "### Filtering with random books then users with enough ratings"
   ]
  },
  {
   "cell_type": "code",
   "execution_count": 166,
   "id": "3e5405d2-526a-49a0-b2fe-1d85c6dfbcba",
   "metadata": {},
   "outputs": [
    {
     "name": "stdout",
     "output_type": "stream",
     "text": [
      "(393216, 5)\n",
      "users: 223226\n",
      "books: 2150\n",
      "matrix dimensions(393216, 5)\n"
     ]
    }
   ],
   "source": [
    "book_rating_counts = df['Title'].value_counts()\n",
    "books_with_ratings = book_rating_counts[book_rating_counts > 50].index\n",
    "filtered_df = df[df['Title'].isin(books_with_ratings)]\n",
    "print(filtered_df.shape)\n",
    "print(f'users: {filtered_df['User_id'].unique().size}')\n",
    "print(f'books: {filtered_df['Title'].unique().size}')\n",
    "print(f'matrix dimensions{filtered_df.shape}')"
   ]
  },
  {
   "cell_type": "code",
   "execution_count": 167,
   "id": "7a02009e-cf2b-4738-9067-1016ebeda55c",
   "metadata": {},
   "outputs": [
    {
     "name": "stdout",
     "output_type": "stream",
     "text": [
      "(45686, 5)\n",
      "users: 1066\n",
      "books: 2135\n",
      "matrix dimensions(45686, 5)\n"
     ]
    }
   ],
   "source": [
    "user_rating_counts = filtered_df['User_id'].value_counts()\n",
    "users_with_ratings = user_rating_counts[user_rating_counts > 20].index\n",
    "filtered_df = filtered_df[filtered_df['User_id'].isin(users_with_ratings)]\n",
    "print(filtered_df.shape)\n",
    "print(f'users: {filtered_df['User_id'].unique().size}')\n",
    "print(f'books: {filtered_df['Title'].unique().size}')\n",
    "print(f'matrix dimensions{filtered_df.shape}')"
   ]
  },
  {
   "cell_type": "code",
   "execution_count": 168,
   "id": "2bb3c7db-f5a4-4b09-925c-2dc976046cb8",
   "metadata": {},
   "outputs": [
    {
     "data": {
      "text/html": [
       "<div>\n",
       "<style scoped>\n",
       "    .dataframe tbody tr th:only-of-type {\n",
       "        vertical-align: middle;\n",
       "    }\n",
       "\n",
       "    .dataframe tbody tr th {\n",
       "        vertical-align: top;\n",
       "    }\n",
       "\n",
       "    .dataframe thead th {\n",
       "        text-align: right;\n",
       "    }\n",
       "</style>\n",
       "<table border=\"1\" class=\"dataframe\">\n",
       "  <thead>\n",
       "    <tr style=\"text-align: right;\">\n",
       "      <th>Title</th>\n",
       "      <th>\"Chosen\" Classics: Round the World in Eighty Days</th>\n",
       "      <th>\"D\" is for Deadbeat</th>\n",
       "      <th>\"Mildred Pierce</th>\n",
       "      <th>\"Ra Force Rising\": Brother G</th>\n",
       "      <th>\"Thirty years in hell\"; or, \"From darkness to light</th>\n",
       "      <th>'Tis The Season: The Choice\\First Fruits\\A New Year; A New Beginning</th>\n",
       "      <th>'Tis the Season to Be Murdered</th>\n",
       "      <th>... Summer moonshine</th>\n",
       "      <th>...Arrow pointing nowhere</th>\n",
       "      <th>1 Ragged Ridge Road</th>\n",
       "      <th>...</th>\n",
       "      <th>Zane's Gettin' Buck Wild: Sex Chronicles II</th>\n",
       "      <th>Zane's Skyscraper: A Novel</th>\n",
       "      <th>Zazie dans le Mtro</th>\n",
       "      <th>Zen Attitude</th>\n",
       "      <th>Zia</th>\n",
       "      <th>Zorba the Greek</th>\n",
       "      <th>green valley</th>\n",
       "      <th>never too much</th>\n",
       "      <th>our davie pepper</th>\n",
       "      <th>the Picture of Dorian Gray</th>\n",
       "    </tr>\n",
       "    <tr>\n",
       "      <th>User_id</th>\n",
       "      <th></th>\n",
       "      <th></th>\n",
       "      <th></th>\n",
       "      <th></th>\n",
       "      <th></th>\n",
       "      <th></th>\n",
       "      <th></th>\n",
       "      <th></th>\n",
       "      <th></th>\n",
       "      <th></th>\n",
       "      <th></th>\n",
       "      <th></th>\n",
       "      <th></th>\n",
       "      <th></th>\n",
       "      <th></th>\n",
       "      <th></th>\n",
       "      <th></th>\n",
       "      <th></th>\n",
       "      <th></th>\n",
       "      <th></th>\n",
       "      <th></th>\n",
       "    </tr>\n",
       "  </thead>\n",
       "  <tbody>\n",
       "    <tr>\n",
       "      <th>A106016KSI0YQ</th>\n",
       "      <td>NaN</td>\n",
       "      <td>NaN</td>\n",
       "      <td>NaN</td>\n",
       "      <td>NaN</td>\n",
       "      <td>NaN</td>\n",
       "      <td>NaN</td>\n",
       "      <td>NaN</td>\n",
       "      <td>NaN</td>\n",
       "      <td>NaN</td>\n",
       "      <td>NaN</td>\n",
       "      <td>...</td>\n",
       "      <td>NaN</td>\n",
       "      <td>NaN</td>\n",
       "      <td>NaN</td>\n",
       "      <td>NaN</td>\n",
       "      <td>NaN</td>\n",
       "      <td>NaN</td>\n",
       "      <td>NaN</td>\n",
       "      <td>NaN</td>\n",
       "      <td>NaN</td>\n",
       "      <td>NaN</td>\n",
       "    </tr>\n",
       "    <tr>\n",
       "      <th>A106E1N0ZQ4D9W</th>\n",
       "      <td>NaN</td>\n",
       "      <td>NaN</td>\n",
       "      <td>NaN</td>\n",
       "      <td>NaN</td>\n",
       "      <td>NaN</td>\n",
       "      <td>NaN</td>\n",
       "      <td>NaN</td>\n",
       "      <td>NaN</td>\n",
       "      <td>2.0</td>\n",
       "      <td>NaN</td>\n",
       "      <td>...</td>\n",
       "      <td>NaN</td>\n",
       "      <td>NaN</td>\n",
       "      <td>NaN</td>\n",
       "      <td>NaN</td>\n",
       "      <td>NaN</td>\n",
       "      <td>NaN</td>\n",
       "      <td>NaN</td>\n",
       "      <td>NaN</td>\n",
       "      <td>NaN</td>\n",
       "      <td>NaN</td>\n",
       "    </tr>\n",
       "    <tr>\n",
       "      <th>A10T0OW97SFBB</th>\n",
       "      <td>5.0</td>\n",
       "      <td>NaN</td>\n",
       "      <td>NaN</td>\n",
       "      <td>NaN</td>\n",
       "      <td>NaN</td>\n",
       "      <td>NaN</td>\n",
       "      <td>NaN</td>\n",
       "      <td>NaN</td>\n",
       "      <td>NaN</td>\n",
       "      <td>NaN</td>\n",
       "      <td>...</td>\n",
       "      <td>NaN</td>\n",
       "      <td>NaN</td>\n",
       "      <td>NaN</td>\n",
       "      <td>NaN</td>\n",
       "      <td>NaN</td>\n",
       "      <td>NaN</td>\n",
       "      <td>NaN</td>\n",
       "      <td>NaN</td>\n",
       "      <td>NaN</td>\n",
       "      <td>NaN</td>\n",
       "    </tr>\n",
       "    <tr>\n",
       "      <th>A10Y3OZWENAQ6W</th>\n",
       "      <td>NaN</td>\n",
       "      <td>NaN</td>\n",
       "      <td>NaN</td>\n",
       "      <td>NaN</td>\n",
       "      <td>NaN</td>\n",
       "      <td>NaN</td>\n",
       "      <td>NaN</td>\n",
       "      <td>NaN</td>\n",
       "      <td>NaN</td>\n",
       "      <td>NaN</td>\n",
       "      <td>...</td>\n",
       "      <td>NaN</td>\n",
       "      <td>NaN</td>\n",
       "      <td>NaN</td>\n",
       "      <td>NaN</td>\n",
       "      <td>NaN</td>\n",
       "      <td>NaN</td>\n",
       "      <td>NaN</td>\n",
       "      <td>NaN</td>\n",
       "      <td>NaN</td>\n",
       "      <td>NaN</td>\n",
       "    </tr>\n",
       "    <tr>\n",
       "      <th>A1129LM24YWSZV</th>\n",
       "      <td>NaN</td>\n",
       "      <td>NaN</td>\n",
       "      <td>NaN</td>\n",
       "      <td>NaN</td>\n",
       "      <td>NaN</td>\n",
       "      <td>NaN</td>\n",
       "      <td>NaN</td>\n",
       "      <td>NaN</td>\n",
       "      <td>NaN</td>\n",
       "      <td>NaN</td>\n",
       "      <td>...</td>\n",
       "      <td>NaN</td>\n",
       "      <td>NaN</td>\n",
       "      <td>NaN</td>\n",
       "      <td>NaN</td>\n",
       "      <td>NaN</td>\n",
       "      <td>NaN</td>\n",
       "      <td>NaN</td>\n",
       "      <td>NaN</td>\n",
       "      <td>NaN</td>\n",
       "      <td>NaN</td>\n",
       "    </tr>\n",
       "  </tbody>\n",
       "</table>\n",
       "<p>5 rows × 2135 columns</p>\n",
       "</div>"
      ],
      "text/plain": [
       "Title           \"Chosen\" Classics: Round the World in Eighty Days  \\\n",
       "User_id                                                             \n",
       "A106016KSI0YQ                                                 NaN   \n",
       "A106E1N0ZQ4D9W                                                NaN   \n",
       "A10T0OW97SFBB                                                 5.0   \n",
       "A10Y3OZWENAQ6W                                                NaN   \n",
       "A1129LM24YWSZV                                                NaN   \n",
       "\n",
       "Title           \"D\" is for Deadbeat  \"Mildred Pierce  \\\n",
       "User_id                                                \n",
       "A106016KSI0YQ                   NaN              NaN   \n",
       "A106E1N0ZQ4D9W                  NaN              NaN   \n",
       "A10T0OW97SFBB                   NaN              NaN   \n",
       "A10Y3OZWENAQ6W                  NaN              NaN   \n",
       "A1129LM24YWSZV                  NaN              NaN   \n",
       "\n",
       "Title           \"Ra Force Rising\": Brother G  \\\n",
       "User_id                                        \n",
       "A106016KSI0YQ                            NaN   \n",
       "A106E1N0ZQ4D9W                           NaN   \n",
       "A10T0OW97SFBB                            NaN   \n",
       "A10Y3OZWENAQ6W                           NaN   \n",
       "A1129LM24YWSZV                           NaN   \n",
       "\n",
       "Title           \"Thirty years in hell\"; or, \"From darkness to light  \\\n",
       "User_id                                                               \n",
       "A106016KSI0YQ                                                 NaN     \n",
       "A106E1N0ZQ4D9W                                                NaN     \n",
       "A10T0OW97SFBB                                                 NaN     \n",
       "A10Y3OZWENAQ6W                                                NaN     \n",
       "A1129LM24YWSZV                                                NaN     \n",
       "\n",
       "Title           'Tis The Season: The Choice\\First Fruits\\A New Year; A New Beginning  \\\n",
       "User_id                                                                                \n",
       "A106016KSI0YQ                                                 NaN                      \n",
       "A106E1N0ZQ4D9W                                                NaN                      \n",
       "A10T0OW97SFBB                                                 NaN                      \n",
       "A10Y3OZWENAQ6W                                                NaN                      \n",
       "A1129LM24YWSZV                                                NaN                      \n",
       "\n",
       "Title           'Tis the Season to Be Murdered  ... Summer moonshine  \\\n",
       "User_id                                                                \n",
       "A106016KSI0YQ                              NaN                   NaN   \n",
       "A106E1N0ZQ4D9W                             NaN                   NaN   \n",
       "A10T0OW97SFBB                              NaN                   NaN   \n",
       "A10Y3OZWENAQ6W                             NaN                   NaN   \n",
       "A1129LM24YWSZV                             NaN                   NaN   \n",
       "\n",
       "Title           ...Arrow pointing nowhere  1 Ragged Ridge Road  ...  \\\n",
       "User_id                                                         ...   \n",
       "A106016KSI0YQ                         NaN                  NaN  ...   \n",
       "A106E1N0ZQ4D9W                        2.0                  NaN  ...   \n",
       "A10T0OW97SFBB                         NaN                  NaN  ...   \n",
       "A10Y3OZWENAQ6W                        NaN                  NaN  ...   \n",
       "A1129LM24YWSZV                        NaN                  NaN  ...   \n",
       "\n",
       "Title           Zane's Gettin' Buck Wild: Sex Chronicles II  \\\n",
       "User_id                                                       \n",
       "A106016KSI0YQ                                           NaN   \n",
       "A106E1N0ZQ4D9W                                          NaN   \n",
       "A10T0OW97SFBB                                           NaN   \n",
       "A10Y3OZWENAQ6W                                          NaN   \n",
       "A1129LM24YWSZV                                          NaN   \n",
       "\n",
       "Title           Zane's Skyscraper: A Novel  Zazie dans le Mtro  Zen Attitude  \\\n",
       "User_id                                                                        \n",
       "A106016KSI0YQ                          NaN                 NaN           NaN   \n",
       "A106E1N0ZQ4D9W                         NaN                 NaN           NaN   \n",
       "A10T0OW97SFBB                          NaN                 NaN           NaN   \n",
       "A10Y3OZWENAQ6W                         NaN                 NaN           NaN   \n",
       "A1129LM24YWSZV                         NaN                 NaN           NaN   \n",
       "\n",
       "Title           Zia  Zorba the Greek  green valley  never too much  \\\n",
       "User_id                                                              \n",
       "A106016KSI0YQ   NaN              NaN           NaN             NaN   \n",
       "A106E1N0ZQ4D9W  NaN              NaN           NaN             NaN   \n",
       "A10T0OW97SFBB   NaN              NaN           NaN             NaN   \n",
       "A10Y3OZWENAQ6W  NaN              NaN           NaN             NaN   \n",
       "A1129LM24YWSZV  NaN              NaN           NaN             NaN   \n",
       "\n",
       "Title           our davie pepper  the Picture of Dorian Gray  \n",
       "User_id                                                       \n",
       "A106016KSI0YQ                NaN                         NaN  \n",
       "A106E1N0ZQ4D9W               NaN                         NaN  \n",
       "A10T0OW97SFBB                NaN                         NaN  \n",
       "A10Y3OZWENAQ6W               NaN                         NaN  \n",
       "A1129LM24YWSZV               NaN                         NaN  \n",
       "\n",
       "[5 rows x 2135 columns]"
      ]
     },
     "execution_count": 168,
     "metadata": {},
     "output_type": "execute_result"
    }
   ],
   "source": [
    "df_pivot = filtered_df.pivot_table(index='User_id', columns='Title', values='review/score', aggfunc = 'max')\n",
    "df_pivot.head()"
   ]
  },
  {
   "cell_type": "markdown",
   "id": "869f1ca9-75e5-405f-95ae-45095d5e9341",
   "metadata": {},
   "source": [
    "#### Save the pivot table with all ratings to csv"
   ]
  },
  {
   "cell_type": "code",
   "execution_count": 171,
   "id": "afbcecb8-b4db-44e5-b9f8-01ee173c9e8c",
   "metadata": {},
   "outputs": [],
   "source": [
    "df_pivot.to_csv('/home/ldrich/Summer2025BHT/DS_Workflow_Applications/recommender_project/BHTRecommenderProject/ratings_matrix.csv')"
   ]
  },
  {
   "cell_type": "markdown",
   "id": "fa9f48b4-77e3-4305-8dc5-8076f4e0cc69",
   "metadata": {},
   "source": [
    "#### Save the basic metadata for the subset of books we are using"
   ]
  },
  {
   "cell_type": "code",
   "execution_count": 172,
   "id": "f093a15d-2acb-4918-be38-69f6d9fccd4f",
   "metadata": {},
   "outputs": [],
   "source": [
    "filtered_df.to_csv('/home/ldrich/Summer2025BHT/DS_Workflow_Applications/recommender_project/BHTRecommenderProject/filtered_ratings.csv')"
   ]
  },
  {
   "cell_type": "code",
   "execution_count": null,
   "id": "1428f9dc-2c4e-44da-90b1-373b71847dc9",
   "metadata": {},
   "outputs": [],
   "source": []
  },
  {
   "cell_type": "code",
   "execution_count": 6,
   "id": "aac1c9c6-c124-4cbb-9a1d-e978c0401f87",
   "metadata": {},
   "outputs": [
    {
     "name": "stdout",
     "output_type": "stream",
     "text": [
      "212404\n",
      "221998\n"
     ]
    }
   ],
   "source": []
  },
  {
   "cell_type": "code",
   "execution_count": null,
   "id": "db933cac-3355-46e6-95c4-e40a8b8ef69d",
   "metadata": {},
   "outputs": [],
   "source": []
  }
 ],
 "metadata": {
  "kernelspec": {
   "display_name": "Python 3 (ipykernel)",
   "language": "python",
   "name": "python3"
  },
  "language_info": {
   "codemirror_mode": {
    "name": "ipython",
    "version": 3
   },
   "file_extension": ".py",
   "mimetype": "text/x-python",
   "name": "python",
   "nbconvert_exporter": "python",
   "pygments_lexer": "ipython3",
   "version": "3.12.3"
  }
 },
 "nbformat": 4,
 "nbformat_minor": 5
}
